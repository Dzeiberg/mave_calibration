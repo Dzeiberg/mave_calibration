{
 "cells": [
  {
   "cell_type": "code",
   "execution_count": 1,
   "metadata": {},
   "outputs": [],
   "source": [
    "import pandas as pd\n",
    "import joblib\n",
    "from data_processing.main import read_scoreset\n",
    "from tqdm import tqdm\n",
    "from pathlib import Path\n",
    "from data_processing.mapping_nbs import mapping_utils\n",
    "from data_processing.mapping_nbs import plotting\n",
    "pd.set_option('display.max_columns', 500)\n",
    "\n",
    "dataset_name = \"Kato_TP53_BAXnWT\"\n",
    "dataset_path = Path(\"/data/dzeiberg/mave_calibration/data/\") / dataset_name\n",
    "assert dataset_path.exists()"
   ]
  },
  {
   "cell_type": "code",
   "execution_count": 2,
   "metadata": {},
   "outputs": [],
   "source": [
    "metadata, gene_info, gnomAD_df, spliceAI_df, clinvar_df = mapping_utils.load_mapping_data()"
   ]
  },
  {
   "cell_type": "code",
   "execution_count": 3,
   "metadata": {},
   "outputs": [],
   "source": [
    "scoreset = read_scoreset(dataset_path / \"scoreset.csv\")"
   ]
  },
  {
   "cell_type": "code",
   "execution_count": 4,
   "metadata": {},
   "outputs": [
    {
     "data": {
      "text/html": [
       "<div>\n",
       "<style scoped>\n",
       "    .dataframe tbody tr th:only-of-type {\n",
       "        vertical-align: middle;\n",
       "    }\n",
       "\n",
       "    .dataframe tbody tr th {\n",
       "        vertical-align: top;\n",
       "    }\n",
       "\n",
       "    .dataframe thead th {\n",
       "        text-align: right;\n",
       "    }\n",
       "</style>\n",
       "<table border=\"1\" class=\"dataframe\">\n",
       "  <thead>\n",
       "    <tr style=\"text-align: right;\">\n",
       "      <th></th>\n",
       "      <th>ProtDescription</th>\n",
       "      <th>AAchange</th>\n",
       "      <th>Codon_Number</th>\n",
       "      <th>WAF1nWT</th>\n",
       "      <th>MDM2nWT</th>\n",
       "      <th>score</th>\n",
       "      <th>h1433snWT</th>\n",
       "      <th>AIP1nWT</th>\n",
       "      <th>GADD45nWT</th>\n",
       "      <th>NOXAnWT</th>\n",
       "      <th>P53R2nWT</th>\n",
       "      <th>WAF1nWT_Saos2</th>\n",
       "      <th>MDM2nWT_Saos2</th>\n",
       "      <th>BAXnWT_Saos2</th>\n",
       "      <th>h1433snWT_Saos2</th>\n",
       "      <th>AIP1nWT_Saos2</th>\n",
       "      <th>PUMAnWT_Saos2</th>\n",
       "      <th>SubG1nWT_Saos2</th>\n",
       "      <th>Oligomerisation_yeast</th>\n",
       "      <th>hgvs_pro</th>\n",
       "      <th>synonymous</th>\n",
       "      <th>nonsense</th>\n",
       "    </tr>\n",
       "  </thead>\n",
       "  <tbody>\n",
       "    <tr>\n",
       "      <th>0</th>\n",
       "      <td>p.A119D</td>\n",
       "      <td>A119D</td>\n",
       "      <td>119</td>\n",
       "      <td>24.5</td>\n",
       "      <td>15.4</td>\n",
       "      <td>13.5</td>\n",
       "      <td>7.9</td>\n",
       "      <td>4.6</td>\n",
       "      <td>53.2</td>\n",
       "      <td>9.7</td>\n",
       "      <td>91.6</td>\n",
       "      <td>33.3</td>\n",
       "      <td>74.1</td>\n",
       "      <td>2.6</td>\n",
       "      <td>18.8</td>\n",
       "      <td>-1.8</td>\n",
       "      <td>154.9</td>\n",
       "      <td>142.2</td>\n",
       "      <td>NaN</td>\n",
       "      <td>p.Ala119Asp</td>\n",
       "      <td>False</td>\n",
       "      <td>False</td>\n",
       "    </tr>\n",
       "    <tr>\n",
       "      <th>1</th>\n",
       "      <td>p.A119G</td>\n",
       "      <td>A119G</td>\n",
       "      <td>119</td>\n",
       "      <td>53.5</td>\n",
       "      <td>24.0</td>\n",
       "      <td>14.1</td>\n",
       "      <td>50.8</td>\n",
       "      <td>27.5</td>\n",
       "      <td>91.6</td>\n",
       "      <td>122.7</td>\n",
       "      <td>109.9</td>\n",
       "      <td>NaN</td>\n",
       "      <td>NaN</td>\n",
       "      <td>NaN</td>\n",
       "      <td>NaN</td>\n",
       "      <td>NaN</td>\n",
       "      <td>NaN</td>\n",
       "      <td>NaN</td>\n",
       "      <td>NaN</td>\n",
       "      <td>p.Ala119Gly</td>\n",
       "      <td>False</td>\n",
       "      <td>False</td>\n",
       "    </tr>\n",
       "    <tr>\n",
       "      <th>2</th>\n",
       "      <td>p.A119P</td>\n",
       "      <td>A119P</td>\n",
       "      <td>119</td>\n",
       "      <td>29.8</td>\n",
       "      <td>17.3</td>\n",
       "      <td>12.4</td>\n",
       "      <td>43.7</td>\n",
       "      <td>21.9</td>\n",
       "      <td>81.0</td>\n",
       "      <td>107.2</td>\n",
       "      <td>116.6</td>\n",
       "      <td>62.6</td>\n",
       "      <td>104.2</td>\n",
       "      <td>80.2</td>\n",
       "      <td>108.1</td>\n",
       "      <td>38.1</td>\n",
       "      <td>139.3</td>\n",
       "      <td>106.6</td>\n",
       "      <td>NaN</td>\n",
       "      <td>p.Ala119Pro</td>\n",
       "      <td>False</td>\n",
       "      <td>False</td>\n",
       "    </tr>\n",
       "    <tr>\n",
       "      <th>3</th>\n",
       "      <td>p.A119S</td>\n",
       "      <td>A119S</td>\n",
       "      <td>119</td>\n",
       "      <td>101.2</td>\n",
       "      <td>56.6</td>\n",
       "      <td>43.1</td>\n",
       "      <td>92.9</td>\n",
       "      <td>48.6</td>\n",
       "      <td>91.9</td>\n",
       "      <td>138.9</td>\n",
       "      <td>106.7</td>\n",
       "      <td>NaN</td>\n",
       "      <td>NaN</td>\n",
       "      <td>NaN</td>\n",
       "      <td>NaN</td>\n",
       "      <td>NaN</td>\n",
       "      <td>NaN</td>\n",
       "      <td>NaN</td>\n",
       "      <td>NaN</td>\n",
       "      <td>p.Ala119Ser</td>\n",
       "      <td>False</td>\n",
       "      <td>False</td>\n",
       "    </tr>\n",
       "    <tr>\n",
       "      <th>4</th>\n",
       "      <td>p.A119T</td>\n",
       "      <td>A119T</td>\n",
       "      <td>119</td>\n",
       "      <td>108.2</td>\n",
       "      <td>100.4</td>\n",
       "      <td>102.8</td>\n",
       "      <td>87.0</td>\n",
       "      <td>52.8</td>\n",
       "      <td>86.1</td>\n",
       "      <td>115.8</td>\n",
       "      <td>94.3</td>\n",
       "      <td>NaN</td>\n",
       "      <td>NaN</td>\n",
       "      <td>NaN</td>\n",
       "      <td>NaN</td>\n",
       "      <td>NaN</td>\n",
       "      <td>NaN</td>\n",
       "      <td>NaN</td>\n",
       "      <td>NaN</td>\n",
       "      <td>p.Ala119Thr</td>\n",
       "      <td>False</td>\n",
       "      <td>False</td>\n",
       "    </tr>\n",
       "    <tr>\n",
       "      <th>...</th>\n",
       "      <td>...</td>\n",
       "      <td>...</td>\n",
       "      <td>...</td>\n",
       "      <td>...</td>\n",
       "      <td>...</td>\n",
       "      <td>...</td>\n",
       "      <td>...</td>\n",
       "      <td>...</td>\n",
       "      <td>...</td>\n",
       "      <td>...</td>\n",
       "      <td>...</td>\n",
       "      <td>...</td>\n",
       "      <td>...</td>\n",
       "      <td>...</td>\n",
       "      <td>...</td>\n",
       "      <td>...</td>\n",
       "      <td>...</td>\n",
       "      <td>...</td>\n",
       "      <td>...</td>\n",
       "      <td>...</td>\n",
       "      <td>...</td>\n",
       "      <td>...</td>\n",
       "    </tr>\n",
       "    <tr>\n",
       "      <th>2309</th>\n",
       "      <td>p.Y327D</td>\n",
       "      <td>Y327D</td>\n",
       "      <td>327</td>\n",
       "      <td>92.8</td>\n",
       "      <td>110.3</td>\n",
       "      <td>109.1</td>\n",
       "      <td>134.6</td>\n",
       "      <td>111.5</td>\n",
       "      <td>74.2</td>\n",
       "      <td>104.2</td>\n",
       "      <td>90.8</td>\n",
       "      <td>NaN</td>\n",
       "      <td>NaN</td>\n",
       "      <td>NaN</td>\n",
       "      <td>NaN</td>\n",
       "      <td>NaN</td>\n",
       "      <td>NaN</td>\n",
       "      <td>NaN</td>\n",
       "      <td>TETR</td>\n",
       "      <td>p.Tyr327Asp</td>\n",
       "      <td>False</td>\n",
       "      <td>False</td>\n",
       "    </tr>\n",
       "    <tr>\n",
       "      <th>2310</th>\n",
       "      <td>p.Y327F</td>\n",
       "      <td>Y327F</td>\n",
       "      <td>327</td>\n",
       "      <td>103.1</td>\n",
       "      <td>140.6</td>\n",
       "      <td>137.3</td>\n",
       "      <td>144.9</td>\n",
       "      <td>116.4</td>\n",
       "      <td>109.3</td>\n",
       "      <td>146.1</td>\n",
       "      <td>113.7</td>\n",
       "      <td>NaN</td>\n",
       "      <td>NaN</td>\n",
       "      <td>NaN</td>\n",
       "      <td>NaN</td>\n",
       "      <td>NaN</td>\n",
       "      <td>NaN</td>\n",
       "      <td>NaN</td>\n",
       "      <td>TETR</td>\n",
       "      <td>p.Tyr327Phe</td>\n",
       "      <td>False</td>\n",
       "      <td>False</td>\n",
       "    </tr>\n",
       "    <tr>\n",
       "      <th>2311</th>\n",
       "      <td>p.Y327H</td>\n",
       "      <td>Y327H</td>\n",
       "      <td>327</td>\n",
       "      <td>82.7</td>\n",
       "      <td>107.3</td>\n",
       "      <td>100.1</td>\n",
       "      <td>97.5</td>\n",
       "      <td>96.3</td>\n",
       "      <td>84.6</td>\n",
       "      <td>146.6</td>\n",
       "      <td>109.5</td>\n",
       "      <td>NaN</td>\n",
       "      <td>NaN</td>\n",
       "      <td>NaN</td>\n",
       "      <td>NaN</td>\n",
       "      <td>NaN</td>\n",
       "      <td>NaN</td>\n",
       "      <td>NaN</td>\n",
       "      <td>TETR</td>\n",
       "      <td>p.Tyr327His</td>\n",
       "      <td>False</td>\n",
       "      <td>False</td>\n",
       "    </tr>\n",
       "    <tr>\n",
       "      <th>2312</th>\n",
       "      <td>p.Y327N</td>\n",
       "      <td>Y327N</td>\n",
       "      <td>327</td>\n",
       "      <td>97.0</td>\n",
       "      <td>137.4</td>\n",
       "      <td>104.9</td>\n",
       "      <td>120.8</td>\n",
       "      <td>124.3</td>\n",
       "      <td>91.1</td>\n",
       "      <td>161.1</td>\n",
       "      <td>118.7</td>\n",
       "      <td>NaN</td>\n",
       "      <td>NaN</td>\n",
       "      <td>NaN</td>\n",
       "      <td>NaN</td>\n",
       "      <td>NaN</td>\n",
       "      <td>NaN</td>\n",
       "      <td>NaN</td>\n",
       "      <td>TETR</td>\n",
       "      <td>p.Tyr327Asn</td>\n",
       "      <td>False</td>\n",
       "      <td>False</td>\n",
       "    </tr>\n",
       "    <tr>\n",
       "      <th>2313</th>\n",
       "      <td>p.Y327S</td>\n",
       "      <td>Y327S</td>\n",
       "      <td>327</td>\n",
       "      <td>97.0</td>\n",
       "      <td>124.4</td>\n",
       "      <td>85.3</td>\n",
       "      <td>124.8</td>\n",
       "      <td>108.5</td>\n",
       "      <td>104.1</td>\n",
       "      <td>154.1</td>\n",
       "      <td>107.6</td>\n",
       "      <td>NaN</td>\n",
       "      <td>NaN</td>\n",
       "      <td>NaN</td>\n",
       "      <td>NaN</td>\n",
       "      <td>NaN</td>\n",
       "      <td>NaN</td>\n",
       "      <td>NaN</td>\n",
       "      <td>TETR</td>\n",
       "      <td>p.Tyr327Ser</td>\n",
       "      <td>False</td>\n",
       "      <td>False</td>\n",
       "    </tr>\n",
       "  </tbody>\n",
       "</table>\n",
       "<p>2314 rows × 22 columns</p>\n",
       "</div>"
      ],
      "text/plain": [
       "     ProtDescription AAchange  Codon_Number  WAF1nWT  MDM2nWT  score  \\\n",
       "0            p.A119D    A119D           119     24.5     15.4   13.5   \n",
       "1            p.A119G    A119G           119     53.5     24.0   14.1   \n",
       "2            p.A119P    A119P           119     29.8     17.3   12.4   \n",
       "3            p.A119S    A119S           119    101.2     56.6   43.1   \n",
       "4            p.A119T    A119T           119    108.2    100.4  102.8   \n",
       "...              ...      ...           ...      ...      ...    ...   \n",
       "2309         p.Y327D    Y327D           327     92.8    110.3  109.1   \n",
       "2310         p.Y327F    Y327F           327    103.1    140.6  137.3   \n",
       "2311         p.Y327H    Y327H           327     82.7    107.3  100.1   \n",
       "2312         p.Y327N    Y327N           327     97.0    137.4  104.9   \n",
       "2313         p.Y327S    Y327S           327     97.0    124.4   85.3   \n",
       "\n",
       "      h1433snWT  AIP1nWT  GADD45nWT  NOXAnWT  P53R2nWT  WAF1nWT_Saos2  \\\n",
       "0           7.9      4.6       53.2      9.7      91.6           33.3   \n",
       "1          50.8     27.5       91.6    122.7     109.9            NaN   \n",
       "2          43.7     21.9       81.0    107.2     116.6           62.6   \n",
       "3          92.9     48.6       91.9    138.9     106.7            NaN   \n",
       "4          87.0     52.8       86.1    115.8      94.3            NaN   \n",
       "...         ...      ...        ...      ...       ...            ...   \n",
       "2309      134.6    111.5       74.2    104.2      90.8            NaN   \n",
       "2310      144.9    116.4      109.3    146.1     113.7            NaN   \n",
       "2311       97.5     96.3       84.6    146.6     109.5            NaN   \n",
       "2312      120.8    124.3       91.1    161.1     118.7            NaN   \n",
       "2313      124.8    108.5      104.1    154.1     107.6            NaN   \n",
       "\n",
       "      MDM2nWT_Saos2  BAXnWT_Saos2  h1433snWT_Saos2  AIP1nWT_Saos2  \\\n",
       "0              74.1           2.6             18.8           -1.8   \n",
       "1               NaN           NaN              NaN            NaN   \n",
       "2             104.2          80.2            108.1           38.1   \n",
       "3               NaN           NaN              NaN            NaN   \n",
       "4               NaN           NaN              NaN            NaN   \n",
       "...             ...           ...              ...            ...   \n",
       "2309            NaN           NaN              NaN            NaN   \n",
       "2310            NaN           NaN              NaN            NaN   \n",
       "2311            NaN           NaN              NaN            NaN   \n",
       "2312            NaN           NaN              NaN            NaN   \n",
       "2313            NaN           NaN              NaN            NaN   \n",
       "\n",
       "      PUMAnWT_Saos2  SubG1nWT_Saos2 Oligomerisation_yeast     hgvs_pro  \\\n",
       "0             154.9           142.2                   NaN  p.Ala119Asp   \n",
       "1               NaN             NaN                   NaN  p.Ala119Gly   \n",
       "2             139.3           106.6                   NaN  p.Ala119Pro   \n",
       "3               NaN             NaN                   NaN  p.Ala119Ser   \n",
       "4               NaN             NaN                   NaN  p.Ala119Thr   \n",
       "...             ...             ...                   ...          ...   \n",
       "2309            NaN             NaN                  TETR  p.Tyr327Asp   \n",
       "2310            NaN             NaN                  TETR  p.Tyr327Phe   \n",
       "2311            NaN             NaN                  TETR  p.Tyr327His   \n",
       "2312            NaN             NaN                  TETR  p.Tyr327Asn   \n",
       "2313            NaN             NaN                  TETR  p.Tyr327Ser   \n",
       "\n",
       "      synonymous  nonsense  \n",
       "0          False     False  \n",
       "1          False     False  \n",
       "2          False     False  \n",
       "3          False     False  \n",
       "4          False     False  \n",
       "...          ...       ...  \n",
       "2309       False     False  \n",
       "2310       False     False  \n",
       "2311       False     False  \n",
       "2312       False     False  \n",
       "2313       False     False  \n",
       "\n",
       "[2314 rows x 22 columns]"
      ]
     },
     "execution_count": 4,
     "metadata": {},
     "output_type": "execute_result"
    }
   ],
   "source": [
    "scoreset"
   ]
  },
  {
   "cell_type": "code",
   "execution_count": 5,
   "metadata": {},
   "outputs": [],
   "source": [
    "if \"author_transcript\" not in scoreset.columns or scoreset.author_transcript.isna().all():\n",
    "    AUTHOR_TRANSCRIPT = gene_info.loc[metadata.loc[dataset_name],'MANE_RefSeq_nuc'].values[0].split(\".\")[0]\n",
    "else:\n",
    "    AUTHOR_TRANSCRIPT = scoreset.author_transcript.iloc[0].split(\".\")[0]"
   ]
  },
  {
   "cell_type": "code",
   "execution_count": 6,
   "metadata": {},
   "outputs": [
    {
     "data": {
      "text/plain": [
       "'NM_000546'"
      ]
     },
     "execution_count": 6,
     "metadata": {},
     "output_type": "execute_result"
    }
   ],
   "source": [
    "AUTHOR_TRANSCRIPT"
   ]
  },
  {
   "cell_type": "markdown",
   "metadata": {},
   "source": [
    "# Add ClinVar annotations"
   ]
  },
  {
   "cell_type": "code",
   "execution_count": 7,
   "metadata": {},
   "outputs": [
    {
     "name": "stderr",
     "output_type": "stream",
     "text": [
      "100%|██████████| 1612/1612 [00:00<00:00, 2218.52it/s]\n"
     ]
    }
   ],
   "source": [
    "clinvar_hgvs_pro_summaries = mapping_utils.get_clinvar_summaries(clinvar_df,AUTHOR_TRANSCRIPT)"
   ]
  },
  {
   "cell_type": "code",
   "execution_count": 8,
   "metadata": {},
   "outputs": [],
   "source": [
    "scoreset_w_clinvar = pd.merge(scoreset.set_index(\"hgvs_pro\"),clinvar_hgvs_pro_summaries,\n",
    "                            left_index=True,\n",
    "                            right_index=True,\n",
    "                            how=\"left\",\n",
    "                            validate=\"one_to_one\",\n",
    "                            suffixes=(\"\",\"_clinvar\"))"
   ]
  },
  {
   "cell_type": "markdown",
   "metadata": {},
   "source": [
    "# Add gnomAD annotations"
   ]
  },
  {
   "cell_type": "code",
   "execution_count": 9,
   "metadata": {},
   "outputs": [],
   "source": [
    "Ensembl_transcript_stable_ids = mapping_utils.translate_refseq_to_ensembl(AUTHOR_TRANSCRIPT)"
   ]
  },
  {
   "cell_type": "code",
   "execution_count": 10,
   "metadata": {},
   "outputs": [
    {
     "data": {
      "text/plain": [
       "array(['ENST00000269305'], dtype=object)"
      ]
     },
     "execution_count": 10,
     "metadata": {},
     "output_type": "execute_result"
    }
   ],
   "source": [
    "Ensembl_transcript_stable_ids"
   ]
  },
  {
   "cell_type": "code",
   "execution_count": 11,
   "metadata": {},
   "outputs": [],
   "source": [
    "gnomAD_info = mapping_utils.gather_gnomAD_info(gnomAD_df,Ensembl_transcript_stable_ids,[AUTHOR_TRANSCRIPT,])"
   ]
  },
  {
   "cell_type": "code",
   "execution_count": 12,
   "metadata": {},
   "outputs": [],
   "source": [
    "scoreset_processed = pd.merge(scoreset_w_clinvar,gnomAD_info,\n",
    "                                        left_index=True,right_index=True,how=\"left\",validate=\"one_to_one\").reset_index()"
   ]
  },
  {
   "cell_type": "code",
   "execution_count": 13,
   "metadata": {},
   "outputs": [],
   "source": [
    "def conflicting_interpretations(r):\n",
    "    \"\"\"\n",
    "    Check if a record has conflicting interpretations\n",
    "    P/LP and B/LB ; P/LP and VUS ; B/LB and VUS ; P/LP and conflicting ; B/LB and conflicting\n",
    "    If data is mapped at the protein level, this could be a result of different RNA substitutions\n",
    "    If data is mapped at the RNA level, this is a true conflict\n",
    "\n",
    "    Parameters\n",
    "    ----------\n",
    "    r : pd.Series\n",
    "        A record from the ClinVar data frame\n",
    "\n",
    "    Returns\n",
    "    -------\n",
    "    bool\n",
    "        True if there are conflicting interpretations, False otherwise\n",
    "    \"\"\"\n",
    "    return r.num_p_lp > 0 and r.num_b_lb > 0 or \\\n",
    "            r.num_p_lp > 0 and r.num_VUS > 0 or \\\n",
    "            r.num_b_lb > 0 and r.num_VUS > 0 or \\\n",
    "            r.num_p_lp > 0 and r.num_conflicting > 0 or \\\n",
    "            r.num_b_lb > 0 and r.num_conflicting > 0\n",
    "\n",
    "\n",
    "def is_pathogenic(r):\n",
    "    return r.num_p_lp > 0 and not conflicting_interpretations(r) and r.clinvar_spliceAI_max <= .5\n",
    "\n",
    "def is_benign(r):\n",
    "    return r.num_b_lb > 0 and not conflicting_interpretations(r) and r.clinvar_spliceAI_max <= .5\n",
    "\n",
    "def is_vus(r):\n",
    "    return r.num_VUS > 0\n",
    "\n",
    "def is_conflicting(r):\n",
    "    return r.num_conflicting > 0\n",
    "\n",
    "def is_gnomAD(r):\n",
    "    return r.gnomAD_variants_maxAC_AF > 0 and r.gnomAD_variants_max_spliceAI_score <= .5\n",
    "\n",
    "def is_synonymous(r):\n",
    "    return r.synonymous and r.num_p_lp == 0 and r.clinvar_spliceAI_max <= .5\n",
    "\n"
   ]
  },
  {
   "cell_type": "code",
   "execution_count": 14,
   "metadata": {},
   "outputs": [],
   "source": [
    "from sklearn.preprocessing import StandardScaler\n",
    "scaler = StandardScaler()\n",
    "\n",
    "\n",
    "scaler.fit(scoreset_processed.loc[(scoreset_processed.apply(is_benign,axis=1)) & (~scoreset_processed.nonsense),\"score\"].values[...,None])\n",
    "scoreset_processed = scoreset_processed.assign(raw_score=scoreset_processed.score)\n",
    "scoreset_processed = scoreset_processed.assign(score=scaler.transform(scoreset_processed.score.values.reshape(-1,1)))"
   ]
  },
  {
   "cell_type": "code",
   "execution_count": 15,
   "metadata": {},
   "outputs": [],
   "source": [
    "scoreset_processed.to_csv(dataset_path / \"scoreset_processed.csv\",index=False)"
   ]
  },
  {
   "cell_type": "markdown",
   "metadata": {},
   "source": [
    "# Reload Processed"
   ]
  },
  {
   "cell_type": "code",
   "execution_count": 15,
   "metadata": {},
   "outputs": [],
   "source": [
    "scoreset_processed = pd.read_csv(dataset_path / \"scoreset_processed.csv\")"
   ]
  },
  {
   "cell_type": "code",
   "execution_count": 16,
   "metadata": {},
   "outputs": [],
   "source": [
    "sample_data = {\n",
    "    \"P/LP\" : scoreset_processed[scoreset_processed.apply(lambda r: not r.nonsense and is_pathogenic(r),axis=1)],\n",
    "    \"B/LB\" : scoreset_processed[scoreset_processed.apply(lambda r: not r.nonsense and is_benign(r),axis=1)],\n",
    "    'gnomAD': scoreset_processed[scoreset_processed.apply(lambda r: not r.nonsense and is_gnomAD(r),axis=1)],\n",
    "    'synonymous' : scoreset_processed[scoreset_processed.apply(is_synonymous,axis=1)],\n",
    "}\n",
    "sample_data = {k : v for k,v in sample_data.items() if len(v)}\n",
    "\n",
    "INVERT_SCORES = False\n",
    "if INVERT_SCORES:\n",
    "    for k in sample_data:\n",
    "        sample_data[k] = sample_data[k].assign(score= -sample_data[k].score)"
   ]
  },
  {
   "cell_type": "code",
   "execution_count": 17,
   "metadata": {},
   "outputs": [
    {
     "name": "stdout",
     "output_type": "stream",
     "text": [
      "P/LP: 170\n",
      "B/LB: 100\n",
      "gnomAD: 481\n"
     ]
    }
   ],
   "source": [
    "for sample_name, sample in sample_data.items():\n",
    "    print(f\"{sample_name}: {sample.shape[0]}\")"
   ]
  },
  {
   "cell_type": "code",
   "execution_count": 18,
   "metadata": {},
   "outputs": [
    {
     "data": {
      "text/plain": [
       "(<Figure size 1200x900 with 3 Axes>,\n",
       " array([<Axes: ylabel='Density'>, <Axes: ylabel='Density'>,\n",
       "        <Axes: ylabel='Density'>], dtype=object))"
      ]
     },
     "execution_count": 18,
     "metadata": {},
     "output_type": "execute_result"
    },
    {
     "data": {
      "image/png": "[encoded data removed]",
      "text/plain": [
       "<Figure size 1200x900 with 3 Axes>"
      ]
     },
     "metadata": {},
     "output_type": "display_data"
    }
   ],
   "source": [
    "plotting.plot_samples({k : v.score.values for k,v in sample_data.items()})"
   ]
  },
  {
   "cell_type": "code",
   "execution_count": 19,
   "metadata": {},
   "outputs": [],
   "source": [
    "pd.DataFrame.from_records([*[dict(sample_name='P/LP',score=score) for score in sample_data['P/LP'].score.values],\n",
    "                            *[dict(sample_name='B/LB',score=score) for score in sample_data['B/LB'].score.values],\n",
    "                            *[dict(sample_name='gnomAD',score=score) for score in sample_data['gnomAD'].score.values]]).to_csv(dataset_path / \"samples.csv\",index=False)"
   ]
  },
  {
   "cell_type": "code",
   "execution_count": null,
   "metadata": {},
   "outputs": [],
   "source": []
  }
 ],
 "metadata": {
  "kernelspec": {
   "display_name": "mave-calibration-xCjwkSk6-py3.11",
   "language": "python",
   "name": "python3"
  },
  "language_info": {
   "codemirror_mode": {
    "name": "ipython",
    "version": 3
   },
   "file_extension": ".py",
   "mimetype": "text/x-python",
   "name": "python",
   "nbconvert_exporter": "python",
   "pygments_lexer": "ipython3",
   "version": "3.11.7"
  }
 },
 "nbformat": 4,
 "nbformat_minor": 2
}
