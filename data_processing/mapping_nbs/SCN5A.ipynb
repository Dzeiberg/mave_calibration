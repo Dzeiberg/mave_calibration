{
 "cells": [
  {
   "cell_type": "code",
   "execution_count": 1,
   "metadata": {},
   "outputs": [],
   "source": [
    "import pandas as pd\n",
    "import joblib\n",
    "from data_processing.main import read_scoreset\n",
    "from tqdm import tqdm\n",
    "from pathlib import Path\n",
    "from data_processing.mapping_nbs import mapping_utils\n",
    "from data_processing.mapping_nbs import plotting\n",
    "pd.set_option('display.max_columns', 500)\n",
    "\n",
    "dataset_name = \"SCN5A\"\n",
    "dataset_path = Path(\"/data/dzeiberg/mave_calibration/data/\") / dataset_name\n",
    "assert dataset_path.exists()"
   ]
  },
  {
   "cell_type": "code",
   "execution_count": 2,
   "metadata": {},
   "outputs": [],
   "source": [
    "metadata, gene_info, gnomAD_df, spliceAI_df, clinvar_df = mapping_utils.load_mapping_data()"
   ]
  },
  {
   "cell_type": "code",
   "execution_count": 4,
   "metadata": {},
   "outputs": [],
   "source": [
    "scoreset = read_scoreset(dataset_path / \"scoreset.csv\")"
   ]
  },
  {
   "cell_type": "code",
   "execution_count": 5,
   "metadata": {},
   "outputs": [
    {
     "data": {
      "text/html": [
       "<div>\n",
       "<style scoped>\n",
       "    .dataframe tbody tr th:only-of-type {\n",
       "        vertical-align: middle;\n",
       "    }\n",
       "\n",
       "    .dataframe tbody tr th {\n",
       "        vertical-align: top;\n",
       "    }\n",
       "\n",
       "    .dataframe thead th {\n",
       "        text-align: right;\n",
       "    }\n",
       "</style>\n",
       "<table border=\"1\" class=\"dataframe\">\n",
       "  <thead>\n",
       "    <tr style=\"text-align: right;\">\n",
       "      <th></th>\n",
       "      <th>mutation</th>\n",
       "      <th>mutation_type</th>\n",
       "      <th>aa_num</th>\n",
       "      <th>wt_allele</th>\n",
       "      <th>mut_allele</th>\n",
       "      <th>score</th>\n",
       "      <th>dms_se</th>\n",
       "      <th>dms_95ci</th>\n",
       "      <th>dms_95ci_lower</th>\n",
       "      <th>dms_95ci_upper</th>\n",
       "      <th>class</th>\n",
       "      <th>author_transcript</th>\n",
       "      <th>hgvs_pro</th>\n",
       "      <th>synonymous</th>\n",
       "      <th>nonsense</th>\n",
       "    </tr>\n",
       "  </thead>\n",
       "  <tbody>\n",
       "    <tr>\n",
       "      <th>0</th>\n",
       "      <td>L1621X</td>\n",
       "      <td>nonsense</td>\n",
       "      <td>1621</td>\n",
       "      <td>L</td>\n",
       "      <td>X</td>\n",
       "      <td>-11.5</td>\n",
       "      <td>3.4</td>\n",
       "      <td>6.6</td>\n",
       "      <td>-18.1</td>\n",
       "      <td>-4.9</td>\n",
       "      <td>LOF</td>\n",
       "      <td>ENST00000333535</td>\n",
       "      <td>p.Leu1621Ter</td>\n",
       "      <td>False</td>\n",
       "      <td>True</td>\n",
       "    </tr>\n",
       "    <tr>\n",
       "      <th>1</th>\n",
       "      <td>F1622X</td>\n",
       "      <td>nonsense</td>\n",
       "      <td>1622</td>\n",
       "      <td>F</td>\n",
       "      <td>X</td>\n",
       "      <td>14.2</td>\n",
       "      <td>1.5</td>\n",
       "      <td>2.9</td>\n",
       "      <td>11.3</td>\n",
       "      <td>17.1</td>\n",
       "      <td>LOF</td>\n",
       "      <td>ENST00000333535</td>\n",
       "      <td>p.Phe1622Ter</td>\n",
       "      <td>False</td>\n",
       "      <td>True</td>\n",
       "    </tr>\n",
       "    <tr>\n",
       "      <th>2</th>\n",
       "      <td>R1623X</td>\n",
       "      <td>nonsense</td>\n",
       "      <td>1623</td>\n",
       "      <td>R</td>\n",
       "      <td>X</td>\n",
       "      <td>-0.8</td>\n",
       "      <td>2.3</td>\n",
       "      <td>4.5</td>\n",
       "      <td>-5.2</td>\n",
       "      <td>3.7</td>\n",
       "      <td>LOF</td>\n",
       "      <td>ENST00000333535</td>\n",
       "      <td>p.Arg1623Ter</td>\n",
       "      <td>False</td>\n",
       "      <td>True</td>\n",
       "    </tr>\n",
       "    <tr>\n",
       "      <th>3</th>\n",
       "      <td>V1624X</td>\n",
       "      <td>nonsense</td>\n",
       "      <td>1624</td>\n",
       "      <td>V</td>\n",
       "      <td>X</td>\n",
       "      <td>25.5</td>\n",
       "      <td>3.7</td>\n",
       "      <td>7.2</td>\n",
       "      <td>18.3</td>\n",
       "      <td>32.6</td>\n",
       "      <td>LOF</td>\n",
       "      <td>ENST00000333535</td>\n",
       "      <td>p.Val1624Ter</td>\n",
       "      <td>False</td>\n",
       "      <td>True</td>\n",
       "    </tr>\n",
       "    <tr>\n",
       "      <th>4</th>\n",
       "      <td>I1625X</td>\n",
       "      <td>nonsense</td>\n",
       "      <td>1625</td>\n",
       "      <td>I</td>\n",
       "      <td>X</td>\n",
       "      <td>-6.3</td>\n",
       "      <td>2.7</td>\n",
       "      <td>5.2</td>\n",
       "      <td>-11.5</td>\n",
       "      <td>-1.1</td>\n",
       "      <td>LOF</td>\n",
       "      <td>ENST00000333535</td>\n",
       "      <td>p.Ile1625Ter</td>\n",
       "      <td>False</td>\n",
       "      <td>True</td>\n",
       "    </tr>\n",
       "    <tr>\n",
       "      <th>...</th>\n",
       "      <td>...</td>\n",
       "      <td>...</td>\n",
       "      <td>...</td>\n",
       "      <td>...</td>\n",
       "      <td>...</td>\n",
       "      <td>...</td>\n",
       "      <td>...</td>\n",
       "      <td>...</td>\n",
       "      <td>...</td>\n",
       "      <td>...</td>\n",
       "      <td>...</td>\n",
       "      <td>...</td>\n",
       "      <td>...</td>\n",
       "      <td>...</td>\n",
       "      <td>...</td>\n",
       "    </tr>\n",
       "    <tr>\n",
       "      <th>243</th>\n",
       "      <td>R1632Q</td>\n",
       "      <td>nonsynonymous</td>\n",
       "      <td>1632</td>\n",
       "      <td>R</td>\n",
       "      <td>Q</td>\n",
       "      <td>61.0</td>\n",
       "      <td>11.5</td>\n",
       "      <td>22.6</td>\n",
       "      <td>38.4</td>\n",
       "      <td>83.5</td>\n",
       "      <td>possiblyLOF</td>\n",
       "      <td>ENST00000333535</td>\n",
       "      <td>p.Arg1632Gln</td>\n",
       "      <td>False</td>\n",
       "      <td>False</td>\n",
       "    </tr>\n",
       "    <tr>\n",
       "      <th>244</th>\n",
       "      <td>R1632S</td>\n",
       "      <td>nonsynonymous</td>\n",
       "      <td>1632</td>\n",
       "      <td>R</td>\n",
       "      <td>S</td>\n",
       "      <td>117.6</td>\n",
       "      <td>8.5</td>\n",
       "      <td>16.6</td>\n",
       "      <td>101.0</td>\n",
       "      <td>134.3</td>\n",
       "      <td>possiblyWT</td>\n",
       "      <td>ENST00000333535</td>\n",
       "      <td>p.Arg1632Ser</td>\n",
       "      <td>False</td>\n",
       "      <td>False</td>\n",
       "    </tr>\n",
       "    <tr>\n",
       "      <th>245</th>\n",
       "      <td>R1632T</td>\n",
       "      <td>nonsynonymous</td>\n",
       "      <td>1632</td>\n",
       "      <td>R</td>\n",
       "      <td>T</td>\n",
       "      <td>115.2</td>\n",
       "      <td>6.1</td>\n",
       "      <td>12.0</td>\n",
       "      <td>103.2</td>\n",
       "      <td>127.3</td>\n",
       "      <td>possiblyWT</td>\n",
       "      <td>ENST00000333535</td>\n",
       "      <td>p.Arg1632Thr</td>\n",
       "      <td>False</td>\n",
       "      <td>False</td>\n",
       "    </tr>\n",
       "    <tr>\n",
       "      <th>246</th>\n",
       "      <td>R1632V</td>\n",
       "      <td>nonsynonymous</td>\n",
       "      <td>1632</td>\n",
       "      <td>R</td>\n",
       "      <td>V</td>\n",
       "      <td>88.1</td>\n",
       "      <td>10.2</td>\n",
       "      <td>20.0</td>\n",
       "      <td>68.1</td>\n",
       "      <td>108.1</td>\n",
       "      <td>possiblyWT</td>\n",
       "      <td>ENST00000333535</td>\n",
       "      <td>p.Arg1632Val</td>\n",
       "      <td>False</td>\n",
       "      <td>False</td>\n",
       "    </tr>\n",
       "    <tr>\n",
       "      <th>247</th>\n",
       "      <td>R1632W</td>\n",
       "      <td>nonsynonymous</td>\n",
       "      <td>1632</td>\n",
       "      <td>R</td>\n",
       "      <td>W</td>\n",
       "      <td>44.6</td>\n",
       "      <td>12.0</td>\n",
       "      <td>23.5</td>\n",
       "      <td>21.0</td>\n",
       "      <td>68.1</td>\n",
       "      <td>LOF</td>\n",
       "      <td>ENST00000333535</td>\n",
       "      <td>p.Arg1632Trp</td>\n",
       "      <td>False</td>\n",
       "      <td>False</td>\n",
       "    </tr>\n",
       "  </tbody>\n",
       "</table>\n",
       "<p>248 rows × 15 columns</p>\n",
       "</div>"
      ],
      "text/plain": [
       "    mutation  mutation_type  aa_num wt_allele mut_allele  score  dms_se  \\\n",
       "0     L1621X       nonsense    1621         L          X  -11.5     3.4   \n",
       "1     F1622X       nonsense    1622         F          X   14.2     1.5   \n",
       "2     R1623X       nonsense    1623         R          X   -0.8     2.3   \n",
       "3     V1624X       nonsense    1624         V          X   25.5     3.7   \n",
       "4     I1625X       nonsense    1625         I          X   -6.3     2.7   \n",
       "..       ...            ...     ...       ...        ...    ...     ...   \n",
       "243   R1632Q  nonsynonymous    1632         R          Q   61.0    11.5   \n",
       "244   R1632S  nonsynonymous    1632         R          S  117.6     8.5   \n",
       "245   R1632T  nonsynonymous    1632         R          T  115.2     6.1   \n",
       "246   R1632V  nonsynonymous    1632         R          V   88.1    10.2   \n",
       "247   R1632W  nonsynonymous    1632         R          W   44.6    12.0   \n",
       "\n",
       "     dms_95ci  dms_95ci_lower  dms_95ci_upper        class author_transcript  \\\n",
       "0         6.6           -18.1            -4.9          LOF   ENST00000333535   \n",
       "1         2.9            11.3            17.1          LOF   ENST00000333535   \n",
       "2         4.5            -5.2             3.7          LOF   ENST00000333535   \n",
       "3         7.2            18.3            32.6          LOF   ENST00000333535   \n",
       "4         5.2           -11.5            -1.1          LOF   ENST00000333535   \n",
       "..        ...             ...             ...          ...               ...   \n",
       "243      22.6            38.4            83.5  possiblyLOF   ENST00000333535   \n",
       "244      16.6           101.0           134.3   possiblyWT   ENST00000333535   \n",
       "245      12.0           103.2           127.3   possiblyWT   ENST00000333535   \n",
       "246      20.0            68.1           108.1   possiblyWT   ENST00000333535   \n",
       "247      23.5            21.0            68.1          LOF   ENST00000333535   \n",
       "\n",
       "         hgvs_pro  synonymous  nonsense  \n",
       "0    p.Leu1621Ter       False      True  \n",
       "1    p.Phe1622Ter       False      True  \n",
       "2    p.Arg1623Ter       False      True  \n",
       "3    p.Val1624Ter       False      True  \n",
       "4    p.Ile1625Ter       False      True  \n",
       "..            ...         ...       ...  \n",
       "243  p.Arg1632Gln       False     False  \n",
       "244  p.Arg1632Ser       False     False  \n",
       "245  p.Arg1632Thr       False     False  \n",
       "246  p.Arg1632Val       False     False  \n",
       "247  p.Arg1632Trp       False     False  \n",
       "\n",
       "[248 rows x 15 columns]"
      ]
     },
     "execution_count": 5,
     "metadata": {},
     "output_type": "execute_result"
    }
   ],
   "source": [
    "scoreset"
   ]
  },
  {
   "cell_type": "code",
   "execution_count": 20,
   "metadata": {},
   "outputs": [],
   "source": [
    "if \"author_transcript\" not in scoreset.columns or scoreset.author_transcript.isna().all():\n",
    "    AUTHOR_TRANSCRIPT = gene_info.loc[metadata.loc[dataset_name],'MANE_RefSeq_nuc'].values[0].split(\".\")[0]\n",
    "else:\n",
    "    AUTHOR_TRANSCRIPT = scoreset.author_transcript.iloc[0].split(\".\")[0]"
   ]
  },
  {
   "cell_type": "code",
   "execution_count": 13,
   "metadata": {},
   "outputs": [],
   "source": [
    "translation_table  = pd.read_csv(\"/data/dzeiberg/mave_calibration/cache/transcript_mapping_table.tsv\",sep=\"\\t\")"
   ]
  },
  {
   "cell_type": "code",
   "execution_count": 22,
   "metadata": {},
   "outputs": [
    {
     "data": {
      "text/plain": [
       "'ENST00000333535'"
      ]
     },
     "execution_count": 22,
     "metadata": {},
     "output_type": "execute_result"
    }
   ],
   "source": [
    "AUTHOR_TRANSCRIPT"
   ]
  },
  {
   "cell_type": "code",
   "execution_count": 21,
   "metadata": {},
   "outputs": [
    {
     "data": {
      "text/plain": [
       "70097    NM_198056.3\n",
       "Name: display_label, dtype: object"
      ]
     },
     "execution_count": 21,
     "metadata": {},
     "output_type": "execute_result"
    }
   ],
   "source": [
    "translation_table[translation_table.stable_id == AUTHOR_TRANSCRIPT].display_label"
   ]
  },
  {
   "cell_type": "code",
   "execution_count": 16,
   "metadata": {},
   "outputs": [],
   "source": [
    "if AUTHOR_TRANSCRIPT[:4] == \"ENST\":\n",
    "    AUTHOR_TRANSCRIPT = translation_table[translation_table.stable_id == AUTHOR_TRANSCRIPT].display_label.values[0].split(\".\")[0]"
   ]
  },
  {
   "cell_type": "code",
   "execution_count": 17,
   "metadata": {},
   "outputs": [
    {
     "data": {
      "text/plain": [
       "'NM_198056'"
      ]
     },
     "execution_count": 17,
     "metadata": {},
     "output_type": "execute_result"
    }
   ],
   "source": [
    "AUTHOR_TRANSCRIPT"
   ]
  },
  {
   "cell_type": "markdown",
   "metadata": {},
   "source": [
    "# Add ClinVar annotations"
   ]
  },
  {
   "cell_type": "code",
   "execution_count": 18,
   "metadata": {},
   "outputs": [
    {
     "name": "stderr",
     "output_type": "stream",
     "text": [
      "0it [00:00, ?it/s]\n"
     ]
    }
   ],
   "source": [
    "clinvar_hgvs_pro_summaries = mapping_utils.get_clinvar_summaries(clinvar_df,AUTHOR_TRANSCRIPT)"
   ]
  },
  {
   "cell_type": "code",
   "execution_count": 8,
   "metadata": {},
   "outputs": [],
   "source": [
    "scoreset_w_clinvar = pd.merge(scoreset.set_index(\"hgvs_pro\"),clinvar_hgvs_pro_summaries,\n",
    "                            left_index=True,\n",
    "                            right_index=True,\n",
    "                            how=\"left\",\n",
    "                            validate=\"one_to_one\",\n",
    "                            suffixes=(\"\",\"_clinvar\"))"
   ]
  },
  {
   "cell_type": "markdown",
   "metadata": {},
   "source": [
    "# Add gnomAD annotations"
   ]
  },
  {
   "cell_type": "code",
   "execution_count": 9,
   "metadata": {},
   "outputs": [],
   "source": [
    "Ensembl_transcript_stable_ids = mapping_utils.translate_refseq_to_ensembl(AUTHOR_TRANSCRIPT)"
   ]
  },
  {
   "cell_type": "code",
   "execution_count": null,
   "metadata": {},
   "outputs": [],
   "source": [
    "Ensembl_transcript_stable_ids"
   ]
  },
  {
   "cell_type": "code",
   "execution_count": 11,
   "metadata": {},
   "outputs": [],
   "source": [
    "gnomAD_info = mapping_utils.gather_gnomAD_info(gnomAD_df,Ensembl_transcript_stable_ids,[AUTHOR_TRANSCRIPT,])"
   ]
  },
  {
   "cell_type": "code",
   "execution_count": 12,
   "metadata": {},
   "outputs": [],
   "source": [
    "scoreset_processed = pd.merge(scoreset_w_clinvar,gnomAD_info,\n",
    "                                        left_index=True,right_index=True,how=\"left\",validate=\"one_to_one\").reset_index()"
   ]
  },
  {
   "cell_type": "code",
   "execution_count": null,
   "metadata": {},
   "outputs": [],
   "source": [
    "scoreset_processed"
   ]
  },
  {
   "cell_type": "code",
   "execution_count": 14,
   "metadata": {},
   "outputs": [],
   "source": [
    "scoreset_processed.to_csv(dataset_path / \"scoreset_processed.csv\",index=False)"
   ]
  },
  {
   "cell_type": "markdown",
   "metadata": {},
   "source": [
    "# Reload Processed"
   ]
  },
  {
   "cell_type": "code",
   "execution_count": 8,
   "metadata": {},
   "outputs": [],
   "source": [
    "scoreset_processed = pd.read_csv(dataset_path / \"scoreset_processed.csv\")"
   ]
  },
  {
   "cell_type": "code",
   "execution_count": 15,
   "metadata": {},
   "outputs": [],
   "source": [
    "def conflicting_interpretations(r):\n",
    "    \"\"\"\n",
    "    Check if a record has conflicting interpretations\n",
    "    P/LP and B/LB ; P/LP and VUS ; B/LB and VUS ; P/LP and conflicting ; B/LB and conflicting\n",
    "    If data is mapped at the protein level, this could be a result of different RNA substitutions\n",
    "    If data is mapped at the RNA level, this is a true conflict\n",
    "\n",
    "    Parameters\n",
    "    ----------\n",
    "    r : pd.Series\n",
    "        A record from the ClinVar data frame\n",
    "\n",
    "    Returns\n",
    "    -------\n",
    "    bool\n",
    "        True if there are conflicting interpretations, False otherwise\n",
    "    \"\"\"\n",
    "    return r.num_p_lp > 0 and r.num_b_lb > 0 or \\\n",
    "            r.num_p_lp > 0 and r.num_VUS > 0 or \\\n",
    "            r.num_b_lb > 0 and r.num_VUS > 0 or \\\n",
    "            r.num_p_lp > 0 and r.num_conflicting > 0 or \\\n",
    "            r.num_b_lb > 0 and r.num_conflicting > 0\n",
    "\n",
    "\n",
    "def is_pathogenic(r):\n",
    "    return r.num_p_lp > 0 and not conflicting_interpretations(r) and r.clinvar_spliceAI_max <= .5\n",
    "\n",
    "def is_benign(r):\n",
    "    return r.num_b_lb > 0 and not conflicting_interpretations(r) and r.clinvar_spliceAI_max <= .5\n",
    "\n",
    "def is_vus(r):\n",
    "    return r.num_VUS > 0\n",
    "\n",
    "def is_conflicting(r):\n",
    "    return r.num_conflicting > 0\n",
    "\n",
    "def is_gnomAD(r):\n",
    "    return r.gnomAD_variants_maxAC_AF > 0 and r.gnomAD_variants_max_spliceAI_score <= .5\n",
    "\n",
    "def is_synonymous(r):\n",
    "    return r.synonymous and r.num_p_lp == 0 and r.clinvar_spliceAI_max <= .5\n",
    "\n"
   ]
  },
  {
   "cell_type": "code",
   "execution_count": 19,
   "metadata": {},
   "outputs": [],
   "source": [
    "sample_data = {\n",
    "    \"P/LP\" : scoreset_processed[scoreset_processed.apply(lambda r: not r.nonsense and is_pathogenic(r),axis=1)],\n",
    "    \"B/LB\" : scoreset_processed[scoreset_processed.apply(lambda r: not r.nonsense and is_benign(r),axis=1)],\n",
    "    'gnomAD': scoreset_processed[scoreset_processed.apply(lambda r: not r.nonsense and is_gnomAD(r),axis=1)],\n",
    "    'synonymous' : scoreset_processed[scoreset_processed.apply(is_synonymous,axis=1)],\n",
    "}\n",
    "sample_data = {k : v for k,v in sample_data.items() if len(v)}\n",
    "\n",
    "INVERT_SCORES = False\n",
    "if INVERT_SCORES:\n",
    "    for k in sample_data:\n",
    "        sample_data[k] = sample_data[k].assign(score= -sample_data[k].score)"
   ]
  },
  {
   "cell_type": "code",
   "execution_count": null,
   "metadata": {},
   "outputs": [],
   "source": [
    "for sample_name, sample in sample_data.items():\n",
    "    print(f\"{sample_name}: {sample.shape[0]}\")"
   ]
  },
  {
   "cell_type": "code",
   "execution_count": null,
   "metadata": {},
   "outputs": [],
   "source": [
    "plotting.plot_samples({k : v.score.values for k,v in sample_data.items()})"
   ]
  },
  {
   "cell_type": "code",
   "execution_count": 22,
   "metadata": {},
   "outputs": [],
   "source": [
    "pd.DataFrame.from_records([*[dict(sample_name='P/LP',score=score) for score in sample_data['P/LP'].score.values],\n",
    "                            *[dict(sample_name='B/LB',score=score) for score in sample_data['B/LB'].score.values],\n",
    "                            *[dict(sample_name='gnomAD',score=score) for score in sample_data['gnomAD'].score.values],\n",
    "                            *[dict(sample_name='synonymous',score=score) for score in sample_data['synonymous'].score.values]]).to_csv(dataset_path / \"samples.csv\",index=False)"
   ]
  },
  {
   "cell_type": "code",
   "execution_count": 23,
   "metadata": {},
   "outputs": [],
   "source": [
    "old = joblib.load(dataset_path / \"hgvs_pro.pkl\")"
   ]
  },
  {
   "cell_type": "code",
   "execution_count": null,
   "metadata": {},
   "outputs": [],
   "source": [
    "clinvar_hgvs_pro_summaries[clinvar_hgvs_pro_summaries.index.isin(set(old['p_lp'].values) - set(sample_data['P/LP'].hgvs_pro.values))]"
   ]
  },
  {
   "cell_type": "code",
   "execution_count": null,
   "metadata": {},
   "outputs": [],
   "source": [
    "clinvar_hgvs_pro_summaries[clinvar_hgvs_pro_summaries.index.isin(set(old['b_lb'].values) - set(sample_data['B/LB'].hgvs_pro.values))]"
   ]
  },
  {
   "cell_type": "code",
   "execution_count": null,
   "metadata": {},
   "outputs": [],
   "source": []
  }
 ],
 "metadata": {
  "kernelspec": {
   "display_name": "mave-calibration-xCjwkSk6-py3.11",
   "language": "python",
   "name": "python3"
  },
  "language_info": {
   "codemirror_mode": {
    "name": "ipython",
    "version": 3
   },
   "file_extension": ".py",
   "mimetype": "text/x-python",
   "name": "python",
   "nbconvert_exporter": "python",
   "pygments_lexer": "ipython3",
   "version": "3.11.7"
  }
 },
 "nbformat": 4,
 "nbformat_minor": 2
}
