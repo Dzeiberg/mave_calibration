{
 "cells": [
  {
   "cell_type": "code",
   "execution_count": 1,
   "metadata": {},
   "outputs": [],
   "source": [
    "import pandas as pd\n",
    "import joblib\n",
    "from data_processing.main import read_scoreset\n",
    "from tqdm import tqdm\n",
    "from pathlib import Path\n",
    "from data_processing.mapping_nbs import mapping_utils\n",
    "from data_processing.mapping_nbs import plotting\n",
    "pd.set_option('display.max_columns', 500)\n",
    "\n",
    "dataset_name = \"Giacomelli_p53_nullNutlin3\"\n",
    "dataset_path = Path(\"/data/dzeiberg/mave_calibration/data/\") / dataset_name"
   ]
  },
  {
   "cell_type": "code",
   "execution_count": 2,
   "metadata": {},
   "outputs": [],
   "source": [
    "metadata, gene_info, gnomAD_df, spliceAI_df, clinvar_df = mapping_utils.load_mapping_data()"
   ]
  },
  {
   "cell_type": "code",
   "execution_count": 3,
   "metadata": {},
   "outputs": [],
   "source": [
    "scoreset = read_scoreset(dataset_path / \"scoreset.csv\")"
   ]
  },
  {
   "cell_type": "code",
   "execution_count": 4,
   "metadata": {},
   "outputs": [],
   "source": [
    "if 'author_transcript' not in scoreset.columns or scoreset.author_transcript.isna().all():\n",
    "    AUTHOR_TRANSCRIPT = gene_info.loc[metadata.loc[dataset_name],'MANE_RefSeq_nuc'].values[0].split(\".\")[0]\n",
    "else:\n",
    "    AUTHOR_TRANSCRIPT = scoreset.author_transcript.iloc[0].split(\".\")[0]"
   ]
  },
  {
   "cell_type": "code",
   "execution_count": 5,
   "metadata": {},
   "outputs": [
    {
     "data": {
      "text/plain": [
       "'NM_000546'"
      ]
     },
     "execution_count": 5,
     "metadata": {},
     "output_type": "execute_result"
    }
   ],
   "source": [
    "AUTHOR_TRANSCRIPT"
   ]
  },
  {
   "cell_type": "code",
   "execution_count": 6,
   "metadata": {},
   "outputs": [
    {
     "data": {
      "text/html": [
       "<div>\n",
       "<style scoped>\n",
       "    .dataframe tbody tr th:only-of-type {\n",
       "        vertical-align: middle;\n",
       "    }\n",
       "\n",
       "    .dataframe tbody tr th {\n",
       "        vertical-align: top;\n",
       "    }\n",
       "\n",
       "    .dataframe thead th {\n",
       "        text-align: right;\n",
       "    }\n",
       "</style>\n",
       "<table border=\"1\" class=\"dataframe\">\n",
       "  <thead>\n",
       "    <tr style=\"text-align: right;\">\n",
       "      <th></th>\n",
       "      <th>accession</th>\n",
       "      <th>hgvs_nt</th>\n",
       "      <th>hgvs_splice</th>\n",
       "      <th>hgvs_pro</th>\n",
       "      <th>score</th>\n",
       "      <th>synonymous</th>\n",
       "      <th>nonsense</th>\n",
       "    </tr>\n",
       "  </thead>\n",
       "  <tbody>\n",
       "    <tr>\n",
       "      <th>0</th>\n",
       "      <td>urn:mavedb:00000068-b-1#1</td>\n",
       "      <td>NaN</td>\n",
       "      <td>NaN</td>\n",
       "      <td>p.Asp391Glu</td>\n",
       "      <td>-1.281893</td>\n",
       "      <td>False</td>\n",
       "      <td>False</td>\n",
       "    </tr>\n",
       "    <tr>\n",
       "      <th>1</th>\n",
       "      <td>urn:mavedb:00000068-b-1#2</td>\n",
       "      <td>NaN</td>\n",
       "      <td>NaN</td>\n",
       "      <td>p.Asp391Cys</td>\n",
       "      <td>-1.637839</td>\n",
       "      <td>False</td>\n",
       "      <td>False</td>\n",
       "    </tr>\n",
       "    <tr>\n",
       "      <th>2</th>\n",
       "      <td>urn:mavedb:00000068-b-1#3</td>\n",
       "      <td>NaN</td>\n",
       "      <td>NaN</td>\n",
       "      <td>p.Asp391=</td>\n",
       "      <td>-0.886148</td>\n",
       "      <td>True</td>\n",
       "      <td>False</td>\n",
       "    </tr>\n",
       "    <tr>\n",
       "      <th>3</th>\n",
       "      <td>urn:mavedb:00000068-b-1#4</td>\n",
       "      <td>NaN</td>\n",
       "      <td>NaN</td>\n",
       "      <td>p.Asp391Ala</td>\n",
       "      <td>-1.174566</td>\n",
       "      <td>False</td>\n",
       "      <td>False</td>\n",
       "    </tr>\n",
       "    <tr>\n",
       "      <th>4</th>\n",
       "      <td>urn:mavedb:00000068-b-1#5</td>\n",
       "      <td>NaN</td>\n",
       "      <td>NaN</td>\n",
       "      <td>p.Pro390Ter</td>\n",
       "      <td>-1.429412</td>\n",
       "      <td>False</td>\n",
       "      <td>True</td>\n",
       "    </tr>\n",
       "  </tbody>\n",
       "</table>\n",
       "</div>"
      ],
      "text/plain": [
       "                   accession  hgvs_nt  hgvs_splice     hgvs_pro     score  \\\n",
       "0  urn:mavedb:00000068-b-1#1      NaN          NaN  p.Asp391Glu -1.281893   \n",
       "1  urn:mavedb:00000068-b-1#2      NaN          NaN  p.Asp391Cys -1.637839   \n",
       "2  urn:mavedb:00000068-b-1#3      NaN          NaN    p.Asp391= -0.886148   \n",
       "3  urn:mavedb:00000068-b-1#4      NaN          NaN  p.Asp391Ala -1.174566   \n",
       "4  urn:mavedb:00000068-b-1#5      NaN          NaN  p.Pro390Ter -1.429412   \n",
       "\n",
       "   synonymous  nonsense  \n",
       "0       False     False  \n",
       "1       False     False  \n",
       "2        True     False  \n",
       "3       False     False  \n",
       "4       False      True  "
      ]
     },
     "execution_count": 6,
     "metadata": {},
     "output_type": "execute_result"
    }
   ],
   "source": [
    "scoreset.head()"
   ]
  },
  {
   "cell_type": "markdown",
   "metadata": {},
   "source": [
    "# Add ClinVar annotations"
   ]
  },
  {
   "cell_type": "code",
   "execution_count": 7,
   "metadata": {},
   "outputs": [
    {
     "name": "stderr",
     "output_type": "stream",
     "text": [
      "100%|██████████| 1612/1612 [00:00<00:00, 2135.34it/s]\n"
     ]
    }
   ],
   "source": [
    "clinvar_hgvs_pro_summaries = mapping_utils.get_clinvar_summaries(clinvar_df,AUTHOR_TRANSCRIPT)"
   ]
  },
  {
   "cell_type": "code",
   "execution_count": 8,
   "metadata": {},
   "outputs": [],
   "source": [
    "scoreset_w_clinvar = pd.merge(scoreset.set_index(\"hgvs_pro\"),clinvar_hgvs_pro_summaries,\n",
    "                            left_index=True,\n",
    "                            right_index=True,\n",
    "                            how=\"left\",\n",
    "                            validate=\"one_to_one\",\n",
    "                            suffixes=(\"\",\"_clinvar\"))"
   ]
  },
  {
   "cell_type": "code",
   "execution_count": 9,
   "metadata": {},
   "outputs": [
    {
     "data": {
      "text/html": [
       "<div>\n",
       "<style scoped>\n",
       "    .dataframe tbody tr th:only-of-type {\n",
       "        vertical-align: middle;\n",
       "    }\n",
       "\n",
       "    .dataframe tbody tr th {\n",
       "        vertical-align: top;\n",
       "    }\n",
       "\n",
       "    .dataframe thead th {\n",
       "        text-align: right;\n",
       "    }\n",
       "</style>\n",
       "<table border=\"1\" class=\"dataframe\">\n",
       "  <thead>\n",
       "    <tr style=\"text-align: right;\">\n",
       "      <th></th>\n",
       "      <th>accession</th>\n",
       "      <th>hgvs_nt</th>\n",
       "      <th>hgvs_splice</th>\n",
       "      <th>score</th>\n",
       "      <th>synonymous</th>\n",
       "      <th>nonsense</th>\n",
       "      <th>num_p_lp</th>\n",
       "      <th>num_b_lb</th>\n",
       "      <th>num_conflicting</th>\n",
       "      <th>num_VUS</th>\n",
       "      <th>clinvar_names</th>\n",
       "      <th>clinvar_records</th>\n",
       "      <th>clinvar_spliceAI_max</th>\n",
       "    </tr>\n",
       "    <tr>\n",
       "      <th>hgvs_pro</th>\n",
       "      <th></th>\n",
       "      <th></th>\n",
       "      <th></th>\n",
       "      <th></th>\n",
       "      <th></th>\n",
       "      <th></th>\n",
       "      <th></th>\n",
       "      <th></th>\n",
       "      <th></th>\n",
       "      <th></th>\n",
       "      <th></th>\n",
       "      <th></th>\n",
       "      <th></th>\n",
       "    </tr>\n",
       "  </thead>\n",
       "  <tbody>\n",
       "    <tr>\n",
       "      <th>p.Asp391Glu</th>\n",
       "      <td>urn:mavedb:00000068-b-1#1</td>\n",
       "      <td>NaN</td>\n",
       "      <td>NaN</td>\n",
       "      <td>-1.281893</td>\n",
       "      <td>False</td>\n",
       "      <td>False</td>\n",
       "      <td>0.0</td>\n",
       "      <td>0.0</td>\n",
       "      <td>0.0</td>\n",
       "      <td>1.0</td>\n",
       "      <td>NM_000546.6(TP53):c.1173C&gt;G (p.Asp391Glu)</td>\n",
       "      <td>1.0</td>\n",
       "      <td>0.00</td>\n",
       "    </tr>\n",
       "    <tr>\n",
       "      <th>p.Asp391Cys</th>\n",
       "      <td>urn:mavedb:00000068-b-1#2</td>\n",
       "      <td>NaN</td>\n",
       "      <td>NaN</td>\n",
       "      <td>-1.637839</td>\n",
       "      <td>False</td>\n",
       "      <td>False</td>\n",
       "      <td>NaN</td>\n",
       "      <td>NaN</td>\n",
       "      <td>NaN</td>\n",
       "      <td>NaN</td>\n",
       "      <td>NaN</td>\n",
       "      <td>NaN</td>\n",
       "      <td>NaN</td>\n",
       "    </tr>\n",
       "    <tr>\n",
       "      <th>p.Asp391=</th>\n",
       "      <td>urn:mavedb:00000068-b-1#3</td>\n",
       "      <td>NaN</td>\n",
       "      <td>NaN</td>\n",
       "      <td>-0.886148</td>\n",
       "      <td>True</td>\n",
       "      <td>False</td>\n",
       "      <td>0.0</td>\n",
       "      <td>1.0</td>\n",
       "      <td>0.0</td>\n",
       "      <td>0.0</td>\n",
       "      <td>NM_000546.6(TP53):c.1173C&gt;T (p.Asp391=)</td>\n",
       "      <td>1.0</td>\n",
       "      <td>0.00</td>\n",
       "    </tr>\n",
       "    <tr>\n",
       "      <th>p.Asp391Ala</th>\n",
       "      <td>urn:mavedb:00000068-b-1#4</td>\n",
       "      <td>NaN</td>\n",
       "      <td>NaN</td>\n",
       "      <td>-1.174566</td>\n",
       "      <td>False</td>\n",
       "      <td>False</td>\n",
       "      <td>NaN</td>\n",
       "      <td>NaN</td>\n",
       "      <td>NaN</td>\n",
       "      <td>NaN</td>\n",
       "      <td>NaN</td>\n",
       "      <td>NaN</td>\n",
       "      <td>NaN</td>\n",
       "    </tr>\n",
       "    <tr>\n",
       "      <th>p.Pro390Ter</th>\n",
       "      <td>urn:mavedb:00000068-b-1#5</td>\n",
       "      <td>NaN</td>\n",
       "      <td>NaN</td>\n",
       "      <td>-1.429412</td>\n",
       "      <td>False</td>\n",
       "      <td>True</td>\n",
       "      <td>NaN</td>\n",
       "      <td>NaN</td>\n",
       "      <td>NaN</td>\n",
       "      <td>NaN</td>\n",
       "      <td>NaN</td>\n",
       "      <td>NaN</td>\n",
       "      <td>NaN</td>\n",
       "    </tr>\n",
       "    <tr>\n",
       "      <th>...</th>\n",
       "      <td>...</td>\n",
       "      <td>...</td>\n",
       "      <td>...</td>\n",
       "      <td>...</td>\n",
       "      <td>...</td>\n",
       "      <td>...</td>\n",
       "      <td>...</td>\n",
       "      <td>...</td>\n",
       "      <td>...</td>\n",
       "      <td>...</td>\n",
       "      <td>...</td>\n",
       "      <td>...</td>\n",
       "      <td>...</td>\n",
       "    </tr>\n",
       "    <tr>\n",
       "      <th>p.Glu3Leu</th>\n",
       "      <td>urn:mavedb:00000068-b-1#8270</td>\n",
       "      <td>NaN</td>\n",
       "      <td>NaN</td>\n",
       "      <td>-0.099381</td>\n",
       "      <td>False</td>\n",
       "      <td>False</td>\n",
       "      <td>NaN</td>\n",
       "      <td>NaN</td>\n",
       "      <td>NaN</td>\n",
       "      <td>NaN</td>\n",
       "      <td>NaN</td>\n",
       "      <td>NaN</td>\n",
       "      <td>NaN</td>\n",
       "    </tr>\n",
       "    <tr>\n",
       "      <th>p.Glu3Lys</th>\n",
       "      <td>urn:mavedb:00000068-b-1#8271</td>\n",
       "      <td>NaN</td>\n",
       "      <td>NaN</td>\n",
       "      <td>-0.601267</td>\n",
       "      <td>False</td>\n",
       "      <td>False</td>\n",
       "      <td>0.0</td>\n",
       "      <td>0.0</td>\n",
       "      <td>1.0</td>\n",
       "      <td>0.0</td>\n",
       "      <td>NM_000546.6(TP53):c.7G&gt;A (p.Glu3Lys)</td>\n",
       "      <td>1.0</td>\n",
       "      <td>0.03</td>\n",
       "    </tr>\n",
       "    <tr>\n",
       "      <th>p.Glu3Ile</th>\n",
       "      <td>urn:mavedb:00000068-b-1#8272</td>\n",
       "      <td>NaN</td>\n",
       "      <td>NaN</td>\n",
       "      <td>-0.494573</td>\n",
       "      <td>False</td>\n",
       "      <td>False</td>\n",
       "      <td>NaN</td>\n",
       "      <td>NaN</td>\n",
       "      <td>NaN</td>\n",
       "      <td>NaN</td>\n",
       "      <td>NaN</td>\n",
       "      <td>NaN</td>\n",
       "      <td>NaN</td>\n",
       "    </tr>\n",
       "    <tr>\n",
       "      <th>p.Glu3His</th>\n",
       "      <td>urn:mavedb:00000068-b-1#8273</td>\n",
       "      <td>NaN</td>\n",
       "      <td>NaN</td>\n",
       "      <td>0.084865</td>\n",
       "      <td>False</td>\n",
       "      <td>False</td>\n",
       "      <td>NaN</td>\n",
       "      <td>NaN</td>\n",
       "      <td>NaN</td>\n",
       "      <td>NaN</td>\n",
       "      <td>NaN</td>\n",
       "      <td>NaN</td>\n",
       "      <td>NaN</td>\n",
       "    </tr>\n",
       "    <tr>\n",
       "      <th>p.Glu3Gly</th>\n",
       "      <td>urn:mavedb:00000068-b-1#8274</td>\n",
       "      <td>NaN</td>\n",
       "      <td>NaN</td>\n",
       "      <td>-1.190836</td>\n",
       "      <td>False</td>\n",
       "      <td>False</td>\n",
       "      <td>0.0</td>\n",
       "      <td>0.0</td>\n",
       "      <td>0.0</td>\n",
       "      <td>1.0</td>\n",
       "      <td>NM_000546.6(TP53):c.8A&gt;G (p.Glu3Gly)</td>\n",
       "      <td>1.0</td>\n",
       "      <td>0.03</td>\n",
       "    </tr>\n",
       "  </tbody>\n",
       "</table>\n",
       "<p>8258 rows × 13 columns</p>\n",
       "</div>"
      ],
      "text/plain": [
       "                                accession  hgvs_nt  hgvs_splice     score  \\\n",
       "hgvs_pro                                                                    \n",
       "p.Asp391Glu     urn:mavedb:00000068-b-1#1      NaN          NaN -1.281893   \n",
       "p.Asp391Cys     urn:mavedb:00000068-b-1#2      NaN          NaN -1.637839   \n",
       "p.Asp391=       urn:mavedb:00000068-b-1#3      NaN          NaN -0.886148   \n",
       "p.Asp391Ala     urn:mavedb:00000068-b-1#4      NaN          NaN -1.174566   \n",
       "p.Pro390Ter     urn:mavedb:00000068-b-1#5      NaN          NaN -1.429412   \n",
       "...                                   ...      ...          ...       ...   \n",
       "p.Glu3Leu    urn:mavedb:00000068-b-1#8270      NaN          NaN -0.099381   \n",
       "p.Glu3Lys    urn:mavedb:00000068-b-1#8271      NaN          NaN -0.601267   \n",
       "p.Glu3Ile    urn:mavedb:00000068-b-1#8272      NaN          NaN -0.494573   \n",
       "p.Glu3His    urn:mavedb:00000068-b-1#8273      NaN          NaN  0.084865   \n",
       "p.Glu3Gly    urn:mavedb:00000068-b-1#8274      NaN          NaN -1.190836   \n",
       "\n",
       "             synonymous  nonsense  num_p_lp  num_b_lb  num_conflicting  \\\n",
       "hgvs_pro                                                                 \n",
       "p.Asp391Glu       False     False       0.0       0.0              0.0   \n",
       "p.Asp391Cys       False     False       NaN       NaN              NaN   \n",
       "p.Asp391=          True     False       0.0       1.0              0.0   \n",
       "p.Asp391Ala       False     False       NaN       NaN              NaN   \n",
       "p.Pro390Ter       False      True       NaN       NaN              NaN   \n",
       "...                 ...       ...       ...       ...              ...   \n",
       "p.Glu3Leu         False     False       NaN       NaN              NaN   \n",
       "p.Glu3Lys         False     False       0.0       0.0              1.0   \n",
       "p.Glu3Ile         False     False       NaN       NaN              NaN   \n",
       "p.Glu3His         False     False       NaN       NaN              NaN   \n",
       "p.Glu3Gly         False     False       0.0       0.0              0.0   \n",
       "\n",
       "             num_VUS                              clinvar_names  \\\n",
       "hgvs_pro                                                          \n",
       "p.Asp391Glu      1.0  NM_000546.6(TP53):c.1173C>G (p.Asp391Glu)   \n",
       "p.Asp391Cys      NaN                                        NaN   \n",
       "p.Asp391=        0.0    NM_000546.6(TP53):c.1173C>T (p.Asp391=)   \n",
       "p.Asp391Ala      NaN                                        NaN   \n",
       "p.Pro390Ter      NaN                                        NaN   \n",
       "...              ...                                        ...   \n",
       "p.Glu3Leu        NaN                                        NaN   \n",
       "p.Glu3Lys        0.0       NM_000546.6(TP53):c.7G>A (p.Glu3Lys)   \n",
       "p.Glu3Ile        NaN                                        NaN   \n",
       "p.Glu3His        NaN                                        NaN   \n",
       "p.Glu3Gly        1.0       NM_000546.6(TP53):c.8A>G (p.Glu3Gly)   \n",
       "\n",
       "             clinvar_records  clinvar_spliceAI_max  \n",
       "hgvs_pro                                            \n",
       "p.Asp391Glu              1.0                  0.00  \n",
       "p.Asp391Cys              NaN                   NaN  \n",
       "p.Asp391=                1.0                  0.00  \n",
       "p.Asp391Ala              NaN                   NaN  \n",
       "p.Pro390Ter              NaN                   NaN  \n",
       "...                      ...                   ...  \n",
       "p.Glu3Leu                NaN                   NaN  \n",
       "p.Glu3Lys                1.0                  0.03  \n",
       "p.Glu3Ile                NaN                   NaN  \n",
       "p.Glu3His                NaN                   NaN  \n",
       "p.Glu3Gly                1.0                  0.03  \n",
       "\n",
       "[8258 rows x 13 columns]"
      ]
     },
     "execution_count": 9,
     "metadata": {},
     "output_type": "execute_result"
    }
   ],
   "source": [
    "scoreset_w_clinvar"
   ]
  },
  {
   "cell_type": "markdown",
   "metadata": {},
   "source": [
    "# Add gnomAD annotations"
   ]
  },
  {
   "cell_type": "code",
   "execution_count": 10,
   "metadata": {},
   "outputs": [],
   "source": [
    "Ensembl_transcript_stable_ids = mapping_utils.translate_refseq_to_ensembl(AUTHOR_TRANSCRIPT)"
   ]
  },
  {
   "cell_type": "code",
   "execution_count": 11,
   "metadata": {},
   "outputs": [],
   "source": [
    "gnomAD_info = mapping_utils.gather_gnomAD_info(gnomAD_df,Ensembl_transcript_stable_ids,[AUTHOR_TRANSCRIPT,])"
   ]
  },
  {
   "cell_type": "code",
   "execution_count": 12,
   "metadata": {},
   "outputs": [],
   "source": [
    "scoreset_processed = pd.merge(scoreset_w_clinvar,gnomAD_info,\n",
    "                                        left_index=True,right_index=True,how=\"left\",validate=\"one_to_one\").reset_index()"
   ]
  },
  {
   "cell_type": "code",
   "execution_count": 13,
   "metadata": {},
   "outputs": [],
   "source": [
    "scoreset_processed.to_csv(dataset_path / \"scoreset_processed.csv\",index=False)"
   ]
  },
  {
   "cell_type": "markdown",
   "metadata": {},
   "source": [
    "# Reload Processed"
   ]
  },
  {
   "cell_type": "code",
   "execution_count": 2,
   "metadata": {},
   "outputs": [],
   "source": [
    "scoreset_processed = pd.read_csv(dataset_path / \"scoreset_processed.csv\")"
   ]
  },
  {
   "cell_type": "code",
   "execution_count": 3,
   "metadata": {},
   "outputs": [],
   "source": [
    "def conflicting_interpretations(r):\n",
    "    \"\"\"\n",
    "    Check if a record has conflicting interpretations\n",
    "    P/LP and B/LB ; P/LP and VUS ; B/LB and VUS ; P/LP and conflicting ; B/LB and conflicting\n",
    "    If data is mapped at the protein level, this could be a result of different RNA substitutions\n",
    "    If data is mapped at the RNA level, this is a true conflict\n",
    "\n",
    "    Parameters\n",
    "    ----------\n",
    "    r : pd.Series\n",
    "        A record from the ClinVar data frame\n",
    "\n",
    "    Returns\n",
    "    -------\n",
    "    bool\n",
    "        True if there are conflicting interpretations, False otherwise\n",
    "    \"\"\"\n",
    "    return r.num_p_lp > 0 and r.num_b_lb > 0 or \\\n",
    "            r.num_p_lp > 0 and r.num_VUS > 0 or \\\n",
    "            r.num_b_lb > 0 and r.num_VUS > 0 or \\\n",
    "            r.num_p_lp > 0 and r.num_conflicting > 0 or \\\n",
    "            r.num_b_lb > 0 and r.num_conflicting > 0\n",
    "\n",
    "\n",
    "def is_pathogenic(r):\n",
    "    return r.num_p_lp > 0 and not conflicting_interpretations(r) and r.clinvar_spliceAI_max <= .5\n",
    "\n",
    "def is_benign(r):\n",
    "    return r.num_b_lb > 0 and not conflicting_interpretations(r) and r.clinvar_spliceAI_max <= .5\n",
    "\n",
    "def is_vus(r):\n",
    "    return r.num_VUS > 0\n",
    "\n",
    "def is_conflicting(r):\n",
    "    return r.num_conflicting > 0\n",
    "\n",
    "def is_gnomAD(r):\n",
    "    return r.gnomAD_variants_maxAC_AF > 0 and r.gnomAD_variants_max_spliceAI_score <= .5\n",
    "\n",
    "def is_synonymous(r):\n",
    "    return r.synonymous and r.num_p_lp == 0 and r.clinvar_spliceAI_max <= .5\n",
    "\n"
   ]
  },
  {
   "cell_type": "code",
   "execution_count": 16,
   "metadata": {},
   "outputs": [],
   "source": [
    "\n",
    "sample_data = {\n",
    "    \"P/LP\" : scoreset_processed[(scoreset_processed.apply(is_pathogenic,axis=1)) & (scoreset_processed.score.notnull()) & (~scoreset_processed.nonsense)],\n",
    "    \"B/LB\" : scoreset_processed[(scoreset_processed.apply(is_benign,axis=1)) & (scoreset_processed.score.notnull()) & (~scoreset_processed.nonsense)],\n",
    "    'gnomAD': scoreset_processed[(scoreset_processed.apply(is_gnomAD,axis=1)) & (scoreset_processed.score.notnull()) & (~scoreset_processed.nonsense)],\n",
    "    \"synonymous\" : scoreset_processed[(scoreset_processed.apply(is_synonymous,axis=1)) & (scoreset_processed.score.notnull())],\n",
    "}\n",
    "sample_data = {k : v for k,v in sample_data.items() if len(v) > 0}\n",
    "\n",
    "INVERT_SCORES = True\n",
    "if INVERT_SCORES:\n",
    "    for k in sample_data:\n",
    "        sample_data[k] = sample_data[k].assign(score= -sample_data[k].score)\n"
   ]
  },
  {
   "cell_type": "code",
   "execution_count": 17,
   "metadata": {},
   "outputs": [
    {
     "name": "stdout",
     "output_type": "stream",
     "text": [
      "P/LP: 171\n",
      "B/LB: 364\n",
      "gnomAD: 476\n",
      "synonymous: 293\n"
     ]
    }
   ],
   "source": [
    "for sample_name, sample in sample_data.items():\n",
    "    print(f\"{sample_name}: {sample.shape[0]}\")"
   ]
  },
  {
   "cell_type": "code",
   "execution_count": 18,
   "metadata": {},
   "outputs": [
    {
     "data": {
      "text/plain": [
       "(<Figure size 1200x1200 with 4 Axes>,\n",
       " array([<Axes: ylabel='Density'>, <Axes: ylabel='Density'>,\n",
       "        <Axes: ylabel='Density'>, <Axes: ylabel='Density'>], dtype=object))"
      ]
     },
     "execution_count": 18,
     "metadata": {},
     "output_type": "execute_result"
    },
    {
     "data": {
      "image/png": "[encoded data removed]",
      "text/plain": [
       "<Figure size 1200x1200 with 4 Axes>"
      ]
     },
     "metadata": {},
     "output_type": "display_data"
    }
   ],
   "source": [
    "plotting.plot_samples({k : v.score.values for k,v in sample_data.items()})"
   ]
  },
  {
   "cell_type": "code",
   "execution_count": 20,
   "metadata": {},
   "outputs": [],
   "source": [
    "pd.DataFrame.from_records([*[dict(sample_name='P/LP',score=score) for score in sample_data['P/LP'].score.values],\n",
    "                            *[dict(sample_name='B/LB',score=score) for score in sample_data['B/LB'].score.values],\n",
    "                            *[dict(sample_name='gnomAD',score=score) for score in sample_data['gnomAD'].score.values],\n",
    "                            *[dict(sample_name='synonymous',score=score) for score in sample_data['synonymous'].score.values]]).to_csv(dataset_path / \"samples.csv\",index=False)"
   ]
  },
  {
   "cell_type": "code",
   "execution_count": null,
   "metadata": {},
   "outputs": [],
   "source": []
  }
 ],
 "metadata": {
  "kernelspec": {
   "display_name": "mave-calibration-xCjwkSk6-py3.11",
   "language": "python",
   "name": "python3"
  },
  "language_info": {
   "codemirror_mode": {
    "name": "ipython",
    "version": 3
   },
   "file_extension": ".py",
   "mimetype": "text/x-python",
   "name": "python",
   "nbconvert_exporter": "python",
   "pygments_lexer": "ipython3",
   "version": "3.11.7"
  }
 },
 "nbformat": 4,
 "nbformat_minor": 2
}
