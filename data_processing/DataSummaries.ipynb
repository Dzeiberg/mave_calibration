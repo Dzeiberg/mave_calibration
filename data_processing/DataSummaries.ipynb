{
 "cells": [
  {
   "cell_type": "code",
   "execution_count": 7,
   "metadata": {},
   "outputs": [],
   "source": [
    "from pathlib import Path\n",
    "import os\n",
    "import pandas as pd"
   ]
  },
  {
   "cell_type": "code",
   "execution_count": 2,
   "metadata": {},
   "outputs": [],
   "source": [
    "data_dir = Path(\"/data/dzeiberg/mave_calibration/data/\")"
   ]
  },
  {
   "cell_type": "code",
   "execution_count": 6,
   "metadata": {},
   "outputs": [
    {
     "data": {
      "text/plain": [
       "'Adamovich_BRCA1_Cisplatin'"
      ]
     },
     "execution_count": 6,
     "metadata": {},
     "output_type": "execute_result"
    }
   ],
   "source": [
    "os.path.basename(list(data_dir.glob(\"**/samples.csv\"))[0].parent)"
   ]
  },
  {
   "cell_type": "code",
   "execution_count": 22,
   "metadata": {},
   "outputs": [],
   "source": [
    "info = {}\n",
    "for file in data_dir.glob(\"**/samples.csv\"):\n",
    "    samples = pd.read_csv(file)\n",
    "    info[os.path.basename(file.parent).replace(\"_\",\" \")] = {\n",
    "        \"P/LP\" : samples[samples.sample_name == \"P/LP\"].shape[0],\n",
    "        \"B/LB\" : samples[samples.sample_name == \"B/LB\"].shape[0],\n",
    "        \"gnomAD\" : samples[samples.sample_name == \"gnomAD\"].shape[0],\n",
    "        \"synonymous\" : samples[samples.sample_name == \"synonymous\"].shape[0],\n",
    "    }"
   ]
  },
  {
   "cell_type": "code",
   "execution_count": 23,
   "metadata": {},
   "outputs": [],
   "source": [
    "from io import StringIO"
   ]
  },
  {
   "cell_type": "code",
   "execution_count": 24,
   "metadata": {},
   "outputs": [],
   "source": [
    "df = pd.DataFrame(info).T"
   ]
  },
  {
   "cell_type": "code",
   "execution_count": 25,
   "metadata": {},
   "outputs": [],
   "source": [
    "buf = StringIO()\n",
    "df.to_latex(buf)"
   ]
  },
  {
   "cell_type": "code",
   "execution_count": 26,
   "metadata": {},
   "outputs": [
    {
     "name": "stdout",
     "output_type": "stream",
     "text": [
      "\\begin{tabular}{lrrrr}\n",
      "\\toprule\n",
      " & P/LP & B/LB & gnomAD & synonymous \\\\\n",
      "\\midrule\n",
      "Adamovich BRCA1 Cisplatin & 43 & 22 & 108 & 0 \\\\\n",
      "Adamovich BRCA1 HDR & 39 & 31 & 140 & 0 \\\\\n",
      "Boettcher TP53 & 170 & 98 & 476 & 0 \\\\\n",
      "Erwood BRCA2 HEK293T & 5 & 58 & 60 & 58 \\\\\n",
      "Erwood NPC1 HEK293T & 28 & 51 & 124 & 56 \\\\\n",
      "Findlay BRCA1 SGE & 156 & 320 & 329 & 568 \\\\\n",
      "Gebbia CHK2 & 6 & 307 & 640 & 334 \\\\\n",
      "Giacomelli p53 nullEtoposide & 171 & 364 & 476 & 293 \\\\\n",
      "Giacomelli p53 nullNutlin3 & 171 & 364 & 476 & 293 \\\\\n",
      "Giacomelli p53 wtNutlin3 & 171 & 364 & 476 & 293 \\\\\n",
      "Hu BRCA2 HDR & 49 & 45 & 233 & 0 \\\\\n",
      "Jia MSH2 SSM & 101 & 210 & 1361 & 0 \\\\\n",
      "Kato TP53 AIP1nWT & 170 & 100 & 481 & 0 \\\\\n",
      "Kato TP53 BAXnWT & 170 & 100 & 481 & 0 \\\\\n",
      "Kato TP53 GADD45nWT & 170 & 100 & 481 & 0 \\\\\n",
      "Kato TP53 MDM2nWT & 170 & 100 & 481 & 0 \\\\\n",
      "Kato TP53 NOXAnWT & 170 & 100 & 481 & 0 \\\\\n",
      "Kato TP53 P53R2nWT & 170 & 100 & 481 & 0 \\\\\n",
      "Kato TP53 WAF1nWT & 170 & 100 & 481 & 0 \\\\\n",
      "Kato TP53 h1433snWT & 170 & 100 & 481 & 0 \\\\\n",
      "Kotler TP53 RelativeFitnessH1299 & 233 & 33 & 336 & 0 \\\\\n",
      "Kotler TP53 RelativeFitnessHCT116 & 97 & 6 & 94 & 0 \\\\\n",
      "Kotler TP53 inVivoEnrichment & 72 & 0 & 42 & 0 \\\\\n",
      "Matreyek PTEN VampSeq & 111 & 101 & 137 & 114 \\\\\n",
      "Mighell PTEN lipidPhosphataseAssay & 182 & 5 & 221 & 0 \\\\\n",
      "Radford DDX3X survivalAssessmentAssay & 84 & 86 & 232 & 85 \\\\\n",
      "Starita BRCA1 HDR & 26 & 23 & 162 & 0 \\\\\n",
      "vanLoggerenberg HMBS erythroid & 36 & 61 & 357 & 66 \\\\\n",
      "vanLoggerenberg HMBS ubiquitous & 31 & 59 & 336 & 63 \\\\\n",
      "\\bottomrule\n",
      "\\end{tabular}\n",
      "\n"
     ]
    }
   ],
   "source": [
    "print(buf.getvalue())"
   ]
  },
  {
   "cell_type": "code",
   "execution_count": null,
   "metadata": {},
   "outputs": [],
   "source": []
  }
 ],
 "metadata": {
  "kernelspec": {
   "display_name": "mave-calibration-xCjwkSk6-py3.11",
   "language": "python",
   "name": "python3"
  },
  "language_info": {
   "codemirror_mode": {
    "name": "ipython",
    "version": 3
   },
   "file_extension": ".py",
   "mimetype": "text/x-python",
   "name": "python",
   "nbconvert_exporter": "python",
   "pygments_lexer": "ipython3",
   "version": "3.11.7"
  }
 },
 "nbformat": 4,
 "nbformat_minor": 2
}
