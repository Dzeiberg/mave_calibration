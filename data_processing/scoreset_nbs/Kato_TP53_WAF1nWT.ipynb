{
 "cells": [
  {
   "cell_type": "code",
   "execution_count": 1,
   "metadata": {},
   "outputs": [],
   "source": [
    "from pathlib import Path\n",
    "import pandas as pd\n",
    "import json\n",
    "dataset_path = Path(\"/data/dzeiberg/mave_calibration/data/Kato_TP53_WAF1nWT/\")\n",
    "assert dataset_path.exists()"
   ]
  },
  {
   "cell_type": "code",
   "execution_count": 2,
   "metadata": {},
   "outputs": [],
   "source": [
    "from Bio.PDB.Polypeptide import protein_letters_3to1\n",
    "protein_letters_1to3 = {v:k.title() for k,v in protein_letters_3to1.items()}\n",
    "def clean(s):\n",
    "    hgvs_pro = protein_letters_1to3[s[0]] + s[1:-1]\n",
    "    if s[-1] == \"*\":\n",
    "        hgvs_pro += \"Ter\"\n",
    "    else:\n",
    "        hgvs_pro += protein_letters_1to3[s[-1]]\n",
    "    return \"p.\"+ hgvs_pro"
   ]
  },
  {
   "cell_type": "code",
   "execution_count": 3,
   "metadata": {},
   "outputs": [],
   "source": [
    "data = pd.read_csv(dataset_path/'raw'/'FunctionIshiokaDownload_r20.csv')\n",
    "data = data.assign(hgvs_pro=data.AAchange.apply(clean))"
   ]
  },
  {
   "cell_type": "code",
   "execution_count": 4,
   "metadata": {},
   "outputs": [],
   "source": [
    "data = data.rename(columns={'WAF1nWT':'score'})"
   ]
  },
  {
   "cell_type": "code",
   "execution_count": 5,
   "metadata": {},
   "outputs": [],
   "source": [
    "data.to_csv(dataset_path/'scoreset.csv', index=False)"
   ]
  },
  {
   "cell_type": "code",
   "execution_count": 10,
   "metadata": {},
   "outputs": [],
   "source": [
    "metadata = dict(uniprot_acc='P04637')\n",
    "with open(dataset_path/'metadata.json', 'w') as f:\n",
    "    json.dump(metadata, f)"
   ]
  },
  {
   "cell_type": "code",
   "execution_count": null,
   "metadata": {},
   "outputs": [],
   "source": []
  }
 ],
 "metadata": {
  "kernelspec": {
   "display_name": "mave-calibration-EHbbm_E7-py3.10",
   "language": "python",
   "name": "python3"
  },
  "language_info": {
   "codemirror_mode": {
    "name": "ipython",
    "version": 3
   },
   "file_extension": ".py",
   "mimetype": "text/x-python",
   "name": "python",
   "nbconvert_exporter": "python",
   "pygments_lexer": "ipython3",
   "version": "3.11.7"
  }
 },
 "nbformat": 4,
 "nbformat_minor": 2
}
