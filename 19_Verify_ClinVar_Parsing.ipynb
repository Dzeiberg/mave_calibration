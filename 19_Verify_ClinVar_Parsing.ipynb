{
 "cells": [
  {
   "cell_type": "code",
   "execution_count": 263,
   "metadata": {},
   "outputs": [],
   "source": [
    "pd.set_option('display.max_rows', None)"
   ]
  },
  {
   "cell_type": "code",
   "execution_count": 264,
   "metadata": {},
   "outputs": [
    {
     "name": "stderr",
     "output_type": "stream",
     "text": [
      "/tmp/ipykernel_2368382/2671154578.py:6: DtypeWarning: Columns (18) have mixed types. Specify dtype option on import or set low_memory=False.\n",
      "  clinvar_variant_summary = pd.read_csv(\"/mnt/d/mave_calibration/cache/variant_summary_2024-08.txt.gz\",delimiter=\"\\t\",compression='gzip')\n"
     ]
    }
   ],
   "source": [
    "import numpy as np\n",
    "import swifter\n",
    "import pandas as pd\n",
    "pd.set_option('display.max_columns', 100)\n",
    "pd.set_option('display.max_rows', 100)\n",
    "clinvar_variant_summary = pd.read_csv(\"/mnt/d/mave_calibration/cache/variant_summary_2024-08.txt.gz\",delimiter=\"\\t\",compression='gzip')"
   ]
  },
  {
   "cell_type": "code",
   "execution_count": 265,
   "metadata": {},
   "outputs": [],
   "source": [
    "clinvar_variant_summary.to_pickle(\"/mnt/d/mave_calibration/cache/variant_summary_2024-08.pkl\")"
   ]
  },
  {
   "cell_type": "code",
   "execution_count": 266,
   "metadata": {},
   "outputs": [
    {
     "data": {
      "text/plain": [
       "(5911112, 40)"
      ]
     },
     "execution_count": 266,
     "metadata": {},
     "output_type": "execute_result"
    }
   ],
   "source": [
    "clinvar_variant_summary.shape"
   ]
  },
  {
   "cell_type": "markdown",
   "metadata": {},
   "source": [
    "# Filter only single nucleotide variant\n"
   ]
  },
  {
   "cell_type": "code",
   "execution_count": 267,
   "metadata": {},
   "outputs": [],
   "source": [
    "clinvar_snv = clinvar_variant_summary[clinvar_variant_summary['Type']=='single nucleotide variant']"
   ]
  },
  {
   "cell_type": "code",
   "execution_count": 268,
   "metadata": {},
   "outputs": [
    {
     "data": {
      "text/plain": [
       "(5336466, 40)"
      ]
     },
     "execution_count": 268,
     "metadata": {},
     "output_type": "execute_result"
    }
   ],
   "source": [
    "clinvar_snv.shape"
   ]
  },
  {
   "cell_type": "code",
   "execution_count": 269,
   "metadata": {},
   "outputs": [],
   "source": [
    "import re\n",
    "from Bio.PDB.Polypeptide import protein_letters_3to1, protein_letters_3to1_extended\n",
    "residues = set(list(map(lambda k : k.title(), protein_letters_3to1.keys())))\n",
    "\n",
    "def parse_protein_variant(s):\n",
    "    \"\"\"\n",
    "    Parse protein conseequence of a variant\n",
    "\n",
    "    Parameters\n",
    "    ----------\n",
    "    s : str\n",
    "        The input string to parse\n",
    "    \n",
    "    Returns\n",
    "    -------\n",
    "    reference_aa : str\n",
    "    \"\"\"\n",
    "    # SPECIAL CASE: no protein\n",
    "    if s == \"p.0\":\n",
    "        raise ValueError(\"No protein\")\n",
    "    \n",
    "    # Define a regular expression pattern to match the number in the string\n",
    "    pattern = re.compile(r'(\\D*)(\\d+)(\\D*)')\n",
    "    \n",
    "    # Search for the pattern in the input string\n",
    "    match = pattern.search(s)\n",
    "    \n",
    "    if match:\n",
    "        # Extract the three parts from the match groups\n",
    "        before_number = match.group(1)\n",
    "        number = match.group(2)\n",
    "        after_number = match.group(3)\n",
    "        wt_aa = before_number.replace(\"p.\",\"\")\n",
    "        after_number = after_number.replace(\")\",\"\")\n",
    "        if wt_aa not in residues and wt_aa not in set((\"Ter\",\"Sec\",\"Pyl\")):\n",
    "            raise ValueError(f\"Expecting the value before the number to be a residue, not '{wt_aa}', as found in '{s}'\")\n",
    "        try:\n",
    "            number = int(number)\n",
    "        except:\n",
    "            raise ValueError(f\"Cannot convert {number} to an integer\")\n",
    "        if after_number[0] == \"_\":\n",
    "            raise ValueError(\"Looks like variant causes a new translation initiation site\")\n",
    "        if \"ext\" in after_number:\n",
    "            raise ValueError(\"Looks like an extension\")\n",
    "        if \"^\" in after_number:\n",
    "            raise ValueError(\"Uncertain\")\n",
    "        if \"/\" in after_number:\n",
    "            raise ValueError(\"Mosaic\")\n",
    "        return wt_aa, number, after_number\n",
    "    else:\n",
    "        # Return the original string if no number is found\n",
    "        raise ValueError(\"Not a supported protein variant\")\n",
    "\n",
    "def is_protein_variant(name):\n",
    "    return \"(p.\" in name\n",
    "\n",
    "def is_silent(name):\n",
    "    if not is_protein_variant(name):\n",
    "        return False\n",
    "    protein_variant = name.split(\"p.\")[1]\n",
    "    try:\n",
    "        wt_aa, position, variant = parse_protein_variant(protein_variant)\n",
    "    except ValueError:\n",
    "        return False\n",
    "    return variant == \"=\"\n",
    "\n",
    "def is_nonsense(name):\n",
    "    if not is_protein_variant(name):\n",
    "        return False\n",
    "    protein_variant = name.split(\"p.\")[1]\n",
    "    try:\n",
    "        wt_aa, position, variant = parse_protein_variant(protein_variant)\n",
    "    except ValueError:\n",
    "        return False\n",
    "    if variant == \"*\":\n",
    "        return True\n",
    "    if variant == \"Ter\":\n",
    "        return True\n",
    "    return False\n",
    "\n",
    "def is_unknown(name):\n",
    "    if not is_protein_variant(name):\n",
    "        return False\n",
    "    protein_variant = name.split(\"p.\")[1]\n",
    "    try:\n",
    "        wt_aa, position, variant = parse_protein_variant(protein_variant)\n",
    "    except ValueError:\n",
    "        return False\n",
    "    return variant == \"?\" or variant == \"Xaa\"\n",
    "\n",
    "def is_missense(name):\n",
    "    if not is_protein_variant(name):\n",
    "        return False\n",
    "    protein_variant = name.split(\"p.\")[1]\n",
    "    try:\n",
    "        wt_aa, position, variant = parse_protein_variant(protein_variant)\n",
    "    except ValueError:\n",
    "        return False\n",
    "    return variant in residues\n",
    "\n",
    "def is_other_protein_variant(name):\n",
    "    if not is_protein_variant(name):\n",
    "        return False\n",
    "    protein_variant = name.split(\"p.\")[1]\n",
    "    try:\n",
    "        wt_aa, position, variant = parse_protein_variant(protein_variant)\n",
    "    except ValueError:\n",
    "        return True\n",
    "    return variant not in {\"=\", \"*\", \"Ter\", \"?\", \"Xaa\"} and variant not in residues\n"
   ]
  },
  {
   "cell_type": "markdown",
   "metadata": {},
   "source": [
    "a few tests of parse protein variant"
   ]
  },
  {
   "cell_type": "code",
   "execution_count": 270,
   "metadata": {},
   "outputs": [
    {
     "data": {
      "text/plain": [
       "('Ala', 123, 'Thr')"
      ]
     },
     "execution_count": 270,
     "metadata": {},
     "output_type": "execute_result"
    }
   ],
   "source": [
    "parse_protein_variant(\"p.Ala123Thr\")"
   ]
  },
  {
   "cell_type": "code",
   "execution_count": 271,
   "metadata": {},
   "outputs": [
    {
     "data": {
      "text/plain": [
       "(('Ala', 123, 'Ter'), ('Ala', 123, '*'))"
      ]
     },
     "execution_count": 271,
     "metadata": {},
     "output_type": "execute_result"
    }
   ],
   "source": [
    "parse_protein_variant(\"p.Ala123Ter\"), parse_protein_variant(\"p.Ala123*\")"
   ]
  },
  {
   "cell_type": "code",
   "execution_count": 272,
   "metadata": {},
   "outputs": [
    {
     "ename": "ValueError",
     "evalue": "Looks like variant causes a new translation initiation site",
     "output_type": "error",
     "traceback": [
      "\u001b[0;31m---------------------------------------------------------------------------\u001b[0m",
      "\u001b[0;31mValueError\u001b[0m                                Traceback (most recent call last)",
      "Cell \u001b[0;32mIn[272], line 1\u001b[0m\n\u001b[0;32m----> 1\u001b[0m \u001b[43mparse_protein_variant\u001b[49m\u001b[43m(\u001b[49m\u001b[38;5;124;43m\"\u001b[39;49m\u001b[38;5;124;43mp.Leu2_Met124del\u001b[39;49m\u001b[38;5;124;43m\"\u001b[39;49m\u001b[43m)\u001b[49m, parse_protein_variant(\u001b[38;5;124m\"\u001b[39m\u001b[38;5;124mp.Met1_Leu2insArgSerThrVal\u001b[39m\u001b[38;5;124m\"\u001b[39m)\n",
      "Cell \u001b[0;32mIn[269], line 42\u001b[0m, in \u001b[0;36mparse_protein_variant\u001b[0;34m(s)\u001b[0m\n\u001b[1;32m     40\u001b[0m     \u001b[38;5;28;01mraise\u001b[39;00m \u001b[38;5;167;01mValueError\u001b[39;00m(\u001b[38;5;124mf\u001b[39m\u001b[38;5;124m\"\u001b[39m\u001b[38;5;124mCannot convert \u001b[39m\u001b[38;5;132;01m{\u001b[39;00mnumber\u001b[38;5;132;01m}\u001b[39;00m\u001b[38;5;124m to an integer\u001b[39m\u001b[38;5;124m\"\u001b[39m)\n\u001b[1;32m     41\u001b[0m \u001b[38;5;28;01mif\u001b[39;00m after_number[\u001b[38;5;241m0\u001b[39m] \u001b[38;5;241m==\u001b[39m \u001b[38;5;124m\"\u001b[39m\u001b[38;5;124m_\u001b[39m\u001b[38;5;124m\"\u001b[39m:\n\u001b[0;32m---> 42\u001b[0m     \u001b[38;5;28;01mraise\u001b[39;00m \u001b[38;5;167;01mValueError\u001b[39;00m(\u001b[38;5;124m\"\u001b[39m\u001b[38;5;124mLooks like variant causes a new translation initiation site\u001b[39m\u001b[38;5;124m\"\u001b[39m)\n\u001b[1;32m     43\u001b[0m \u001b[38;5;28;01mif\u001b[39;00m \u001b[38;5;124m\"\u001b[39m\u001b[38;5;124mext\u001b[39m\u001b[38;5;124m\"\u001b[39m \u001b[38;5;129;01min\u001b[39;00m after_number:\n\u001b[1;32m     44\u001b[0m     \u001b[38;5;28;01mraise\u001b[39;00m \u001b[38;5;167;01mValueError\u001b[39;00m(\u001b[38;5;124m\"\u001b[39m\u001b[38;5;124mLooks like an extension\u001b[39m\u001b[38;5;124m\"\u001b[39m)\n",
      "\u001b[0;31mValueError\u001b[0m: Looks like variant causes a new translation initiation site"
     ]
    }
   ],
   "source": [
    "parse_protein_variant(\"p.Leu2_Met124del\"), parse_protein_variant(\"p.Met1_Leu2insArgSerThrVal\")"
   ]
  },
  {
   "cell_type": "code",
   "execution_count": null,
   "metadata": {},
   "outputs": [
    {
     "data": {
      "text/plain": [
       "('Ter', 327, 'Arg')"
      ]
     },
     "execution_count": 41,
     "metadata": {},
     "output_type": "execute_result"
    }
   ],
   "source": [
    "parse_protein_variant(\"p.Ter327Arg\")"
   ]
  },
  {
   "cell_type": "markdown",
   "metadata": {},
   "source": [
    "# Non-protein variants"
   ]
  },
  {
   "cell_type": "code",
   "execution_count": 273,
   "metadata": {},
   "outputs": [],
   "source": [
    "nonprotein_variant_mask = clinvar_snv['Name'].apply(lambda x: not is_protein_variant(x))"
   ]
  },
  {
   "cell_type": "code",
   "execution_count": 274,
   "metadata": {},
   "outputs": [
    {
     "data": {
      "text/plain": [
       "np.int64(1099086)"
      ]
     },
     "execution_count": 274,
     "metadata": {},
     "output_type": "execute_result"
    }
   ],
   "source": [
    "nonprotein_variant_mask.sum()"
   ]
  },
  {
   "cell_type": "code",
   "execution_count": 275,
   "metadata": {},
   "outputs": [
    {
     "data": {
      "text/plain": [
       "'NM_000410.4(HFE):c.892+48G>A'"
      ]
     },
     "execution_count": 275,
     "metadata": {},
     "output_type": "execute_result"
    }
   ],
   "source": [
    "clinvar_snv[nonprotein_variant_mask].iloc[0].Name"
   ]
  },
  {
   "cell_type": "markdown",
   "metadata": {},
   "source": [
    "# Missense Variants"
   ]
  },
  {
   "cell_type": "code",
   "execution_count": 276,
   "metadata": {},
   "outputs": [
    {
     "data": {
      "application/vnd.jupyter.widget-view+json": {
       "model_id": "79821007e517481395f6012139bbe5ed",
       "version_major": 2,
       "version_minor": 0
      },
      "text/plain": [
       "Pandas Apply:   0%|          | 0/5336466 [00:00<?, ?it/s]"
      ]
     },
     "metadata": {},
     "output_type": "display_data"
    }
   ],
   "source": [
    "missense_mask = clinvar_snv.Name.swifter.apply(is_missense)"
   ]
  },
  {
   "cell_type": "code",
   "execution_count": 277,
   "metadata": {},
   "outputs": [],
   "source": [
    "clinvar_missense = clinvar_snv[missense_mask]"
   ]
  },
  {
   "cell_type": "code",
   "execution_count": 278,
   "metadata": {},
   "outputs": [
    {
     "data": {
      "text/plain": [
       "(2889704, 40)"
      ]
     },
     "execution_count": 278,
     "metadata": {},
     "output_type": "execute_result"
    }
   ],
   "source": [
    "clinvar_missense.shape"
   ]
  },
  {
   "cell_type": "code",
   "execution_count": 279,
   "metadata": {},
   "outputs": [
    {
     "data": {
      "text/plain": [
       "'NM_014630.3(ZNF592):c.3136G>A (p.Gly1046Arg)'"
      ]
     },
     "execution_count": 279,
     "metadata": {},
     "output_type": "execute_result"
    }
   ],
   "source": [
    "clinvar_missense.iloc[0].Name"
   ]
  },
  {
   "cell_type": "markdown",
   "metadata": {},
   "source": [
    "# Silent Variants"
   ]
  },
  {
   "cell_type": "code",
   "execution_count": 280,
   "metadata": {},
   "outputs": [
    {
     "data": {
      "application/vnd.jupyter.widget-view+json": {
       "model_id": "92024325ba1e4d20b1d47e6c934d922c",
       "version_major": 2,
       "version_minor": 0
      },
      "text/plain": [
       "Pandas Apply:   0%|          | 0/5336466 [00:00<?, ?it/s]"
      ]
     },
     "metadata": {},
     "output_type": "display_data"
    }
   ],
   "source": [
    "silent_mask = clinvar_snv.Name.swifter.apply(is_silent)\n",
    "clinvar_silent = clinvar_snv[silent_mask]"
   ]
  },
  {
   "cell_type": "code",
   "execution_count": 281,
   "metadata": {},
   "outputs": [
    {
     "data": {
      "text/plain": [
       "np.int64(1213559)"
      ]
     },
     "execution_count": 281,
     "metadata": {},
     "output_type": "execute_result"
    }
   ],
   "source": [
    "silent_mask.sum()"
   ]
  },
  {
   "cell_type": "code",
   "execution_count": 282,
   "metadata": {},
   "outputs": [
    {
     "data": {
      "text/plain": [
       "'NM_000374.5(UROD):c.942G>A (p.Glu314=)'"
      ]
     },
     "execution_count": 282,
     "metadata": {},
     "output_type": "execute_result"
    }
   ],
   "source": [
    "clinvar_snv[silent_mask].iloc[0].Name"
   ]
  },
  {
   "cell_type": "code",
   "execution_count": 283,
   "metadata": {},
   "outputs": [
    {
     "data": {
      "text/plain": [
       "(1092, 40)"
      ]
     },
     "execution_count": 283,
     "metadata": {},
     "output_type": "execute_result"
    }
   ],
   "source": [
    "clinvar_silent[clinvar_silent.ClinicalSignificance.isin(set((\"Pathogenic\", \"Likely pathogenic\", \"Pathogenic/Likely pathogenic\"))) & \\\n",
    "               ~clinvar_silent.ReviewStatus.isin({'no clasification provided',\n",
    "                                                  'no assertion criteria provided',\n",
    "                                                  'no classification for the single variant'})].shape"
   ]
  },
  {
   "cell_type": "markdown",
   "metadata": {},
   "source": [
    "# Nonsense"
   ]
  },
  {
   "cell_type": "code",
   "execution_count": 284,
   "metadata": {},
   "outputs": [
    {
     "data": {
      "application/vnd.jupyter.widget-view+json": {
       "model_id": "12b69913e44b410f88f266dad999dcab",
       "version_major": 2,
       "version_minor": 0
      },
      "text/plain": [
       "Pandas Apply:   0%|          | 0/5336466 [00:00<?, ?it/s]"
      ]
     },
     "metadata": {},
     "output_type": "display_data"
    },
    {
     "data": {
      "text/plain": [
       "(134097, 40)"
      ]
     },
     "execution_count": 284,
     "metadata": {},
     "output_type": "execute_result"
    }
   ],
   "source": [
    "nonsense_mask = clinvar_snv.Name.swifter.apply(is_nonsense)\n",
    "clinvar_snv[nonsense_mask].shape"
   ]
  },
  {
   "cell_type": "code",
   "execution_count": 285,
   "metadata": {},
   "outputs": [
    {
     "data": {
      "text/plain": [
       "'NM_017547.4(FOXRED1):c.694C>T (p.Gln232Ter)'"
      ]
     },
     "execution_count": 285,
     "metadata": {},
     "output_type": "execute_result"
    }
   ],
   "source": [
    "clinvar_snv[nonsense_mask].iloc[0].Name"
   ]
  },
  {
   "cell_type": "markdown",
   "metadata": {},
   "source": [
    "# Unknown Alt-AA"
   ]
  },
  {
   "cell_type": "code",
   "execution_count": 286,
   "metadata": {},
   "outputs": [
    {
     "data": {
      "application/vnd.jupyter.widget-view+json": {
       "model_id": "cf3bdce0c763419191d8c4cd26765b3b",
       "version_major": 2,
       "version_minor": 0
      },
      "text/plain": [
       "Pandas Apply:   0%|          | 0/5336466 [00:00<?, ?it/s]"
      ]
     },
     "metadata": {},
     "output_type": "display_data"
    },
    {
     "data": {
      "text/plain": [
       "(18, 40)"
      ]
     },
     "execution_count": 286,
     "metadata": {},
     "output_type": "execute_result"
    }
   ],
   "source": [
    "unknown_mask = clinvar_snv.Name.swifter.apply(is_unknown)\n",
    "clinvar_snv[unknown_mask].shape"
   ]
  },
  {
   "cell_type": "code",
   "execution_count": 287,
   "metadata": {},
   "outputs": [
    {
     "data": {
      "text/plain": [
       "'NM_000558.5(HBA1):c.43T>Y (p.Trp15Xaa)'"
      ]
     },
     "execution_count": 287,
     "metadata": {},
     "output_type": "execute_result"
    }
   ],
   "source": [
    "clinvar_snv[unknown_mask].iloc[0].Name"
   ]
  },
  {
   "cell_type": "markdown",
   "metadata": {},
   "source": [
    "# Other cases (e.g. extensions)"
   ]
  },
  {
   "cell_type": "code",
   "execution_count": 288,
   "metadata": {},
   "outputs": [
    {
     "data": {
      "application/vnd.jupyter.widget-view+json": {
       "model_id": "33c821ba5a324bb288b658ae11c39dc1",
       "version_major": 2,
       "version_minor": 0
      },
      "text/plain": [
       "Pandas Apply:   0%|          | 0/5336466 [00:00<?, ?it/s]"
      ]
     },
     "metadata": {},
     "output_type": "display_data"
    },
    {
     "data": {
      "text/plain": [
       "(2, 40)"
      ]
     },
     "execution_count": 288,
     "metadata": {},
     "output_type": "execute_result"
    }
   ],
   "source": [
    "other_protein_variant_mask = clinvar_snv.Name.swifter.apply(is_other_protein_variant)\n",
    "clinvar_snv[other_protein_variant_mask].shape"
   ]
  },
  {
   "cell_type": "code",
   "execution_count": 289,
   "metadata": {},
   "outputs": [
    {
     "data": {
      "text/plain": [
       "'NM_015697.9(COQ2):c.30G>A (p.Arg10_Lys11=)'"
      ]
     },
     "execution_count": 289,
     "metadata": {},
     "output_type": "execute_result"
    }
   ],
   "source": [
    "clinvar_snv[other_protein_variant_mask].iloc[0].Name"
   ]
  },
  {
   "cell_type": "markdown",
   "metadata": {},
   "source": [
    "# Check that all SNVs are accounted for and all categorizations are mutually exclusive"
   ]
  },
  {
   "cell_type": "code",
   "execution_count": 290,
   "metadata": {},
   "outputs": [
    {
     "data": {
      "text/plain": [
       "(5336466, 5336466)"
      ]
     },
     "execution_count": 290,
     "metadata": {},
     "output_type": "execute_result"
    }
   ],
   "source": [
    "clinvar_snv.shape[0], (missense_mask | silent_mask | nonsense_mask | unknown_mask | other_protein_variant_mask | nonprotein_variant_mask).sum().item()"
   ]
  },
  {
   "cell_type": "code",
   "execution_count": 291,
   "metadata": {},
   "outputs": [
    {
     "data": {
      "text/plain": [
       "np.True_"
      ]
     },
     "execution_count": 291,
     "metadata": {},
     "output_type": "execute_result"
    }
   ],
   "source": [
    "(np.stack([missense_mask, silent_mask, nonsense_mask, unknown_mask, other_protein_variant_mask, nonprotein_variant_mask], axis=1).sum(axis=1) == 1).all()"
   ]
  },
  {
   "cell_type": "markdown",
   "metadata": {},
   "source": [
    "# Summary"
   ]
  },
  {
   "cell_type": "code",
   "execution_count": 292,
   "metadata": {},
   "outputs": [],
   "source": [
    "categorization = pd.Series(dict(missense=missense_mask.sum(),\n",
    "                silent=silent_mask.sum(),\n",
    "                nonsense=nonsense_mask.sum(),\n",
    "                unknown=unknown_mask.sum(),\n",
    "                other=other_protein_variant_mask.sum(),\n",
    "                non_protein_variant=nonprotein_variant_mask.sum())).sort_values()"
   ]
  },
  {
   "cell_type": "code",
   "execution_count": 293,
   "metadata": {},
   "outputs": [
    {
     "data": {
      "text/plain": [
       "other                        2\n",
       "unknown                     18\n",
       "nonsense                134097\n",
       "non_protein_variant    1099086\n",
       "silent                 1213559\n",
       "missense               2889704\n",
       "dtype: int64"
      ]
     },
     "execution_count": 293,
     "metadata": {},
     "output_type": "execute_result"
    }
   ],
   "source": [
    "categorization"
   ]
  },
  {
   "cell_type": "code",
   "execution_count": 294,
   "metadata": {},
   "outputs": [],
   "source": [
    "def is_valid_refseq_accession(refseq_string):\n",
    "    \"\"\"\n",
    "    Check if a string is a valid RefSeq nucleotide accession number.\n",
    "\n",
    "    Args:\n",
    "        refseq_string (str): The string to verify.\n",
    "\n",
    "    Returns:\n",
    "        bool: True if the string is a valid RefSeq nucleotide accession, False otherwise.\n",
    "    \"\"\"\n",
    "    # Regular expression pattern for RefSeq nucleotide accession (with optional version)\n",
    "    # pattern = re.compile(r'^(NM|NP|NR|NG|NC|NT|XM|XP|XR|XT|NC|NG|NT|NR)_\\d{6,10}(\\.\\d+)?$')\n",
    "    \n",
    "    # Regular expression pattern for RefSeq nucleotide accession (with required version)\n",
    "    pattern = re.compile(r'^(NM|NP|NR|NG|NC|NT|XM|XP|XR|XT|NC|NG|NT|NR)_\\d{6,10}(\\.)(\\d+)?$')\n",
    "    \n",
    "    # Check if the string matches the pattern\n",
    "    try:\n",
    "        return bool(pattern.match(refseq_string))\n",
    "    except TypeError:\n",
    "        raise TypeError(f\"Expected a string, but got {type(refseq_string)}\")"
   ]
  },
  {
   "cell_type": "code",
   "execution_count": 306,
   "metadata": {},
   "outputs": [
    {
     "name": "stdout",
     "output_type": "stream",
     "text": [
      "{'transcript': 'NM_015697.9', 'gene_symbol': 'COQ2', 'dna_substitution': 'c.30G>A', 'protein_substitution': 'p.Arg10_Lys11='}\n",
      "{'transcript': 'NM_015697.9', 'gene_symbol': '', 'dna_substitution': 'c.30G>A', 'protein_substitution': 'p.Arg10_Lys11='}\n",
      "{'transcript': '', 'gene_symbol': '', 'dna_substitution': '', 'protein_substitution': ''}\n",
      "{'transcript': 'NM_000038.5', 'gene_symbol': 'GENE', 'dna_substitution': 'c.123A>T', 'protein_substitution': 'p.Asn41='}\n",
      "{'transcript': 'NM_000038.5', 'gene_symbol': '', 'dna_substitution': 'c.123A>T', 'protein_substitution': 'p.Asn41='}\n",
      "{'transcript': '', 'gene_symbol': '', 'dna_substitution': '', 'protein_substitution': ''}\n",
      "{'transcript': 'NM_015697.9', 'gene_symbol': '', 'dna_substitution': 'c.30G>A', 'protein_substitution': 'p.Arg10_Lys11='}\n",
      "{'transcript': '', 'gene_symbol': '', 'dna_substitution': '', 'protein_substitution': ''}\n",
      "{'transcript': 'NM_015697.9', 'gene_symbol': 'COQ2', 'dna_substitution': 'c.30G>A', 'protein_substitution': ''}\n",
      "{'transcript': 'NM_015697.9', 'gene_symbol': 'ABC', 'dna_substitution': 'c.30G>A', 'protein_substitution': ''}\n",
      "{'transcript': 'NC_000023', 'gene_symbol': '.10', 'dna_substitution': 'c.33038255C>A', 'protein_substitution': ''}\n",
      "{'transcript': '', 'gene_symbol': '', 'dna_substitution': '', 'protein_substitution': ''}\n"
     ]
    }
   ],
   "source": [
    "import re\n",
    "\n",
    "def parse_clinvar_record(clinvar_string):\n",
    "    \"\"\"\n",
    "    Extract transcript, gene symbol (if exists), DNA sequence substitution, and protein substitution (if exists) from a ClinVar record name.\n",
    "    \n",
    "    Args:\n",
    "        clinvar_string (str): The ClinVar record name (e.g., \"NM_015697.9(COQ2):c.30G>A (p.Arg10_Lys11=)\" or \"c.30G>A (p.Arg10_Lys11=)\" or \"NM_015697.9:c.30G>A\" or \"NM_015697.9(COQ2):c.30G>A\").\n",
    "    \n",
    "    Returns:\n",
    "        dict: A dictionary containing 'transcript', 'gene_symbol', 'dna_substitution', and 'protein_substitution'.\n",
    "    \"\"\"\n",
    "    # Regular expression pattern to match the ClinVar record format with optional transcript, gene symbol, and protein substitution\n",
    "    pattern = re.compile(\n",
    "        r'(?:(?P<transcript>NM_\\d+\\.\\d+|\\w+_\\d+))?(?:\\s*(?:\\((?P<gene_symbol>[^\\)]+)\\)|(?P<gene_symbol_no_paren>[^\\s:]+)))?:(?P<dna_substitution>c\\.[^\\s]+)(?:\\s*\\((?P<protein_substitution>p\\.[^\\)]+)\\))?'\n",
    "    )\n",
    "    \n",
    "    # Search for the pattern in the input string\n",
    "    match = pattern.search(clinvar_string)\n",
    "    \n",
    "    if match:\n",
    "        # Extract the parts from the match groups\n",
    "        transcript = match.group('transcript') or ''\n",
    "        gene_symbol = match.group('gene_symbol') or match.group('gene_symbol_no_paren') or ''\n",
    "        dna_substitution = match.group('dna_substitution')\n",
    "        protein_substitution = match.group('protein_substitution') or ''\n",
    "        \n",
    "        return {\n",
    "            'transcript': transcript,\n",
    "            'gene_symbol': gene_symbol,\n",
    "            'dna_substitution': dna_substitution,\n",
    "            'protein_substitution': protein_substitution\n",
    "        }\n",
    "    else:\n",
    "        # Return None or raise an error if the format is incorrect\n",
    "        return {\n",
    "            'transcript': '',\n",
    "            'gene_symbol': '',\n",
    "            'dna_substitution': '',\n",
    "            'protein_substitution': ''}\n",
    "\n",
    "# Example usage\n",
    "clinvar_strings = [\n",
    "    \"NM_015697.9(COQ2):c.30G>A (p.Arg10_Lys11=)\",\n",
    "    \"NM_015697.9:c.30G>A (p.Arg10_Lys11=)\",\n",
    "    \"c.30G>A (p.Arg10_Lys11=)\", # X\n",
    "    \"NM_000038.5(GENE):c.123A>T (p.Asn41=)\",\n",
    "    \"NM_000038.5:c.123A>T (p.Asn41=)\",\n",
    "    \"c.123A>T (p.Asn41=)\", # X\n",
    "    \"NM_015697.9:c.30G>A (p.Arg10_Lys11=)\",\n",
    "    \"FOXRED1: (p.Arg10_Lys11=)\", # X\n",
    "    \"NM_015697.9(COQ2):c.30G>A\",  # Protein substitution missing\n",
    "    \"NM_015697.9(ABC):c.30G>A\",         # Protein substitution and gene symbol missing\n",
    "    \"NC_000023.10:c.33038255C>A\",\n",
    "    \"NG_023416.2:g.(88604_176551)_(176714_576894)del\" # X\n",
    "]\n",
    "\n",
    "for clinvar_string in clinvar_strings:\n",
    "    try:\n",
    "        parsed_result = parse_clinvar_record(clinvar_string)\n",
    "        print(parsed_result)\n",
    "    except ValueError as e:\n",
    "        print(e)"
   ]
  },
  {
   "cell_type": "code",
   "execution_count": 307,
   "metadata": {},
   "outputs": [
    {
     "data": {
      "application/vnd.jupyter.widget-view+json": {
       "model_id": "6a11edd350b545c7a91b07c332a50a61",
       "version_major": 2,
       "version_minor": 0
      },
      "text/plain": [
       "Pandas Apply:   0%|          | 0/5336466 [00:00<?, ?it/s]"
      ]
     },
     "metadata": {},
     "output_type": "display_data"
    },
    {
     "data": {
      "application/vnd.jupyter.widget-view+json": {
       "model_id": "d0bbdf68d4ee4e558e91f176f81d07aa",
       "version_major": 2,
       "version_minor": 0
      },
      "text/plain": [
       "Pandas Apply:   0%|          | 0/2889704 [00:00<?, ?it/s]"
      ]
     },
     "metadata": {},
     "output_type": "display_data"
    }
   ],
   "source": [
    "missense_parse = clinvar_snv[clinvar_snv.Name.swifter.apply(is_missense)].Name.swifter.apply(parse_clinvar_record)"
   ]
  },
  {
   "cell_type": "code",
   "execution_count": 308,
   "metadata": {},
   "outputs": [],
   "source": [
    "missense_parse_df = pd.DataFrame([d for d in missense_parse],)"
   ]
  },
  {
   "cell_type": "code",
   "execution_count": 309,
   "metadata": {},
   "outputs": [
    {
     "data": {
      "text/html": [
       "<div>\n",
       "<style scoped>\n",
       "    .dataframe tbody tr th:only-of-type {\n",
       "        vertical-align: middle;\n",
       "    }\n",
       "\n",
       "    .dataframe tbody tr th {\n",
       "        vertical-align: top;\n",
       "    }\n",
       "\n",
       "    .dataframe thead th {\n",
       "        text-align: right;\n",
       "    }\n",
       "</style>\n",
       "<table border=\"1\" class=\"dataframe\">\n",
       "  <thead>\n",
       "    <tr style=\"text-align: right;\">\n",
       "      <th></th>\n",
       "      <th>transcript</th>\n",
       "      <th>gene_symbol</th>\n",
       "      <th>dna_substitution</th>\n",
       "      <th>protein_substitution</th>\n",
       "    </tr>\n",
       "  </thead>\n",
       "  <tbody>\n",
       "    <tr>\n",
       "      <th>0</th>\n",
       "      <td>NM_014630.3</td>\n",
       "      <td>ZNF592</td>\n",
       "      <td>c.3136G&gt;A</td>\n",
       "      <td>p.Gly1046Arg</td>\n",
       "    </tr>\n",
       "    <tr>\n",
       "      <th>1</th>\n",
       "      <td>NM_014630.3</td>\n",
       "      <td>ZNF592</td>\n",
       "      <td>c.3136G&gt;A</td>\n",
       "      <td>p.Gly1046Arg</td>\n",
       "    </tr>\n",
       "    <tr>\n",
       "      <th>2</th>\n",
       "      <td>NM_017547.4</td>\n",
       "      <td>FOXRED1</td>\n",
       "      <td>c.1289A&gt;G</td>\n",
       "      <td>p.Asn430Ser</td>\n",
       "    </tr>\n",
       "    <tr>\n",
       "      <th>3</th>\n",
       "      <td>NM_017547.4</td>\n",
       "      <td>FOXRED1</td>\n",
       "      <td>c.1289A&gt;G</td>\n",
       "      <td>p.Asn430Ser</td>\n",
       "    </tr>\n",
       "    <tr>\n",
       "      <th>4</th>\n",
       "      <td>NM_025152.3</td>\n",
       "      <td>NUBPL</td>\n",
       "      <td>c.166G&gt;A</td>\n",
       "      <td>p.Gly56Arg</td>\n",
       "    </tr>\n",
       "    <tr>\n",
       "      <th>...</th>\n",
       "      <td>...</td>\n",
       "      <td>...</td>\n",
       "      <td>...</td>\n",
       "      <td>...</td>\n",
       "    </tr>\n",
       "    <tr>\n",
       "      <th>2889699</th>\n",
       "      <td>NM_001082971.2</td>\n",
       "      <td>DDC</td>\n",
       "      <td>c.782G&gt;T</td>\n",
       "      <td>p.Cys261Phe</td>\n",
       "    </tr>\n",
       "    <tr>\n",
       "      <th>2889700</th>\n",
       "      <td>NM_001082971.2</td>\n",
       "      <td>DDC</td>\n",
       "      <td>c.1060G&gt;A</td>\n",
       "      <td>p.Gly354Ser</td>\n",
       "    </tr>\n",
       "    <tr>\n",
       "      <th>2889701</th>\n",
       "      <td>NM_001082971.2</td>\n",
       "      <td>DDC</td>\n",
       "      <td>c.1060G&gt;A</td>\n",
       "      <td>p.Gly354Ser</td>\n",
       "    </tr>\n",
       "    <tr>\n",
       "      <th>2889702</th>\n",
       "      <td>NM_001165967.2</td>\n",
       "      <td>HES7</td>\n",
       "      <td>c.113T&gt;C</td>\n",
       "      <td>p.Leu38Pro</td>\n",
       "    </tr>\n",
       "    <tr>\n",
       "      <th>2889703</th>\n",
       "      <td>NM_001165967.2</td>\n",
       "      <td>HES7</td>\n",
       "      <td>c.113T&gt;C</td>\n",
       "      <td>p.Leu38Pro</td>\n",
       "    </tr>\n",
       "  </tbody>\n",
       "</table>\n",
       "<p>2889704 rows × 4 columns</p>\n",
       "</div>"
      ],
      "text/plain": [
       "             transcript gene_symbol dna_substitution protein_substitution\n",
       "0           NM_014630.3      ZNF592        c.3136G>A         p.Gly1046Arg\n",
       "1           NM_014630.3      ZNF592        c.3136G>A         p.Gly1046Arg\n",
       "2           NM_017547.4     FOXRED1        c.1289A>G          p.Asn430Ser\n",
       "3           NM_017547.4     FOXRED1        c.1289A>G          p.Asn430Ser\n",
       "4           NM_025152.3       NUBPL         c.166G>A           p.Gly56Arg\n",
       "...                 ...         ...              ...                  ...\n",
       "2889699  NM_001082971.2         DDC         c.782G>T          p.Cys261Phe\n",
       "2889700  NM_001082971.2         DDC        c.1060G>A          p.Gly354Ser\n",
       "2889701  NM_001082971.2         DDC        c.1060G>A          p.Gly354Ser\n",
       "2889702  NM_001165967.2        HES7         c.113T>C           p.Leu38Pro\n",
       "2889703  NM_001165967.2        HES7         c.113T>C           p.Leu38Pro\n",
       "\n",
       "[2889704 rows x 4 columns]"
      ]
     },
     "execution_count": 309,
     "metadata": {},
     "output_type": "execute_result"
    }
   ],
   "source": [
    "missense_parse_df"
   ]
  },
  {
   "cell_type": "code",
   "execution_count": 310,
   "metadata": {},
   "outputs": [
    {
     "data": {
      "application/vnd.jupyter.widget-view+json": {
       "model_id": "d8c1431f462c4f0d96891ffeed64a73b",
       "version_major": 2,
       "version_minor": 0
      },
      "text/plain": [
       "Pandas Apply:   0%|          | 0/1213559 [00:00<?, ?it/s]"
      ]
     },
     "metadata": {},
     "output_type": "display_data"
    }
   ],
   "source": [
    "clinvar_silent_parse = clinvar_snv[silent_mask].Name.swifter.apply(parse_clinvar_record)"
   ]
  },
  {
   "cell_type": "code",
   "execution_count": 313,
   "metadata": {},
   "outputs": [],
   "source": [
    "silent_parse_df = pd.DataFrame([d for d in clinvar_silent_parse],)"
   ]
  },
  {
   "cell_type": "code",
   "execution_count": 314,
   "metadata": {},
   "outputs": [
    {
     "data": {
      "text/html": [
       "<div>\n",
       "<style scoped>\n",
       "    .dataframe tbody tr th:only-of-type {\n",
       "        vertical-align: middle;\n",
       "    }\n",
       "\n",
       "    .dataframe tbody tr th {\n",
       "        vertical-align: top;\n",
       "    }\n",
       "\n",
       "    .dataframe thead th {\n",
       "        text-align: right;\n",
       "    }\n",
       "</style>\n",
       "<table border=\"1\" class=\"dataframe\">\n",
       "  <thead>\n",
       "    <tr style=\"text-align: right;\">\n",
       "      <th></th>\n",
       "      <th>transcript</th>\n",
       "      <th>gene_symbol</th>\n",
       "      <th>dna_substitution</th>\n",
       "      <th>protein_substitution</th>\n",
       "    </tr>\n",
       "  </thead>\n",
       "  <tbody>\n",
       "    <tr>\n",
       "      <th>0</th>\n",
       "      <td>NM_000374.5</td>\n",
       "      <td>UROD</td>\n",
       "      <td>c.942G&gt;A</td>\n",
       "      <td>p.Glu314=</td>\n",
       "    </tr>\n",
       "    <tr>\n",
       "      <th>1</th>\n",
       "      <td>NM_000374.5</td>\n",
       "      <td>UROD</td>\n",
       "      <td>c.942G&gt;A</td>\n",
       "      <td>p.Glu314=</td>\n",
       "    </tr>\n",
       "    <tr>\n",
       "      <th>2</th>\n",
       "      <td>NM_000274.4</td>\n",
       "      <td>OAT</td>\n",
       "      <td>c.1134C&gt;T</td>\n",
       "      <td>p.Asn378=</td>\n",
       "    </tr>\n",
       "    <tr>\n",
       "      <th>3</th>\n",
       "      <td>NM_000274.4</td>\n",
       "      <td>OAT</td>\n",
       "      <td>c.1134C&gt;T</td>\n",
       "      <td>p.Asn378=</td>\n",
       "    </tr>\n",
       "    <tr>\n",
       "      <th>4</th>\n",
       "      <td>NM_003730.6</td>\n",
       "      <td>RNASET2</td>\n",
       "      <td>c.567G&gt;A</td>\n",
       "      <td>p.Gln189=</td>\n",
       "    </tr>\n",
       "    <tr>\n",
       "      <th>...</th>\n",
       "      <td>...</td>\n",
       "      <td>...</td>\n",
       "      <td>...</td>\n",
       "      <td>...</td>\n",
       "    </tr>\n",
       "    <tr>\n",
       "      <th>1213554</th>\n",
       "      <td>NM_182925.5</td>\n",
       "      <td>FLT4</td>\n",
       "      <td>c.1548G&gt;A</td>\n",
       "      <td>p.Lys516=</td>\n",
       "    </tr>\n",
       "    <tr>\n",
       "      <th>1213555</th>\n",
       "      <td>NM_022893.4</td>\n",
       "      <td>BCL11A</td>\n",
       "      <td>c.384A&gt;G</td>\n",
       "      <td>p.Ala128=</td>\n",
       "    </tr>\n",
       "    <tr>\n",
       "      <th>1213556</th>\n",
       "      <td>NM_022893.4</td>\n",
       "      <td>BCL11A</td>\n",
       "      <td>c.384A&gt;G</td>\n",
       "      <td>p.Ala128=</td>\n",
       "    </tr>\n",
       "    <tr>\n",
       "      <th>1213557</th>\n",
       "      <td>NM_000533.5</td>\n",
       "      <td>PLP1</td>\n",
       "      <td>c.384C&gt;T</td>\n",
       "      <td>p.Gly128=</td>\n",
       "    </tr>\n",
       "    <tr>\n",
       "      <th>1213558</th>\n",
       "      <td>NM_000533.5</td>\n",
       "      <td>PLP1</td>\n",
       "      <td>c.384C&gt;T</td>\n",
       "      <td>p.Gly128=</td>\n",
       "    </tr>\n",
       "  </tbody>\n",
       "</table>\n",
       "<p>1213559 rows × 4 columns</p>\n",
       "</div>"
      ],
      "text/plain": [
       "          transcript gene_symbol dna_substitution protein_substitution\n",
       "0        NM_000374.5        UROD         c.942G>A            p.Glu314=\n",
       "1        NM_000374.5        UROD         c.942G>A            p.Glu314=\n",
       "2        NM_000274.4         OAT        c.1134C>T            p.Asn378=\n",
       "3        NM_000274.4         OAT        c.1134C>T            p.Asn378=\n",
       "4        NM_003730.6     RNASET2         c.567G>A            p.Gln189=\n",
       "...              ...         ...              ...                  ...\n",
       "1213554  NM_182925.5        FLT4        c.1548G>A            p.Lys516=\n",
       "1213555  NM_022893.4      BCL11A         c.384A>G            p.Ala128=\n",
       "1213556  NM_022893.4      BCL11A         c.384A>G            p.Ala128=\n",
       "1213557  NM_000533.5        PLP1         c.384C>T            p.Gly128=\n",
       "1213558  NM_000533.5        PLP1         c.384C>T            p.Gly128=\n",
       "\n",
       "[1213559 rows x 4 columns]"
      ]
     },
     "execution_count": 314,
     "metadata": {},
     "output_type": "execute_result"
    }
   ],
   "source": [
    "silent_parse_df"
   ]
  },
  {
   "cell_type": "code",
   "execution_count": null,
   "metadata": {},
   "outputs": [
    {
     "data": {
      "application/vnd.jupyter.widget-view+json": {
       "model_id": "170e1ae3f720403aa565c7c7c4eacb6f",
       "version_major": 2,
       "version_minor": 0
      },
      "text/plain": [
       "Pandas Apply:   0%|          | 0/5911112 [00:00<?, ?it/s]"
      ]
     },
     "metadata": {},
     "output_type": "display_data"
    }
   ],
   "source": [
    "fail_cases = clinvar_variant_summary[(clinvar_variant_summary.Type == \"single nucleotide variant\") & (clinvar_variant_summary.Name.swifter.apply(parse_clinvar_record).str.len() == 0)]"
   ]
  },
  {
   "cell_type": "code",
   "execution_count": null,
   "metadata": {},
   "outputs": [
    {
     "data": {
      "text/plain": [
       "(18037,)"
      ]
     },
     "execution_count": 254,
     "metadata": {},
     "output_type": "execute_result"
    }
   ],
   "source": [
    "fail_cases.Name.shape"
   ]
  },
  {
   "cell_type": "code",
   "execution_count": null,
   "metadata": {},
   "outputs": [
    {
     "data": {
      "application/vnd.jupyter.widget-view+json": {
       "model_id": "dbaeccc007054df0aebe594102e37375",
       "version_major": 2,
       "version_minor": 0
      },
      "text/plain": [
       "Pandas Apply:   0%|          | 0/5336466 [00:00<?, ?it/s]"
      ]
     },
     "metadata": {},
     "output_type": "display_data"
    }
   ],
   "source": [
    "parse_res = [d for d in clinvar_snv.Name.swifter.apply(parse_clinvar_record) if len(d)]"
   ]
  },
  {
   "cell_type": "code",
   "execution_count": null,
   "metadata": {},
   "outputs": [],
   "source": [
    "parse_res = pd.DataFrame.from_records(parse_res)"
   ]
  },
  {
   "cell_type": "markdown",
   "metadata": {},
   "source": []
  }
 ],
 "metadata": {
  "kernelspec": {
   "display_name": "mave-calibration-EHbbm_E7-py3.10",
   "language": "python",
   "name": "python3"
  },
  "language_info": {
   "codemirror_mode": {
    "name": "ipython",
    "version": 3
   },
   "file_extension": ".py",
   "mimetype": "text/x-python",
   "name": "python",
   "nbconvert_exporter": "python",
   "pygments_lexer": "ipython3",
   "version": "3.10.12"
  }
 },
 "nbformat": 4,
 "nbformat_minor": 2
}
