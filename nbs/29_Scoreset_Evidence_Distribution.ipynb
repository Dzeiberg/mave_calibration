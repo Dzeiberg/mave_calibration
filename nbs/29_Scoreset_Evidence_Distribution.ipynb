{
 "cells": [
  {
   "cell_type": "code",
   "execution_count": 1,
   "metadata": {},
   "outputs": [
    {
     "data": {
      "application/vnd.jupyter.widget-view+json": {
       "model_id": "5ca0be486c3e425e8f7feb6302d0b80a",
       "version_major": 2,
       "version_minor": 0
      },
      "text/plain": [
       "  0%|          | 0/11 [00:00<?, ?it/s]"
      ]
     },
     "metadata": {},
     "output_type": "display_data"
    }
   ],
   "source": [
    "from data_processing.clinvar import getClinvar\n",
    "from data_processing.main import get_gene_info\n",
    "from main import load_data\n",
    "from pathlib import Path\n",
    "import os\n",
    "from tqdm.autonotebook import tqdm\n",
    "import json\n",
    "import pandas as pd\n",
    "import numpy as np\n",
    "import joblib\n",
    "import matplotlib.pyplot as plt\n",
    "import seaborn as sns\n",
    "pd.set_option('display.max_columns', None)\n",
    "\n",
    "cache_dir = Path(\"/data/dzeiberg/mave_calibration/cache\")\n",
    "cache_dir.mkdir(exist_ok=True, parents=True)\n",
    "data_directory = Path(\"/data/dzeiberg/mave_calibration/data\")\n",
    "dataset_names = [os.path.basename(f.parent) for f in data_directory.glob(\"**/observations.pkl\")]\n",
    "metadata = []\n",
    "for dataset in dataset_names:\n",
    "    with open(data_directory / dataset / \"metadata.json\") as f:\n",
    "        metadata.append(dict(**json.load(f), dataset=dataset))\n",
    "metadata = pd.DataFrame(metadata).set_index(\"dataset\")\n",
    "gene_info = {}\n",
    "for uniprot_acc in tqdm(metadata[\"uniprot_acc\"].unique()):\n",
    "    gene_info[uniprot_acc] = get_gene_info(uniprot_acc, cache_dir=\"/data/dzeiberg/mave_calibration/cache\")\n",
    "gene_info = pd.DataFrame(gene_info).T"
   ]
  },
  {
   "cell_type": "code",
   "execution_count": null,
   "metadata": {},
   "outputs": [],
   "source": []
  }
 ],
 "metadata": {
  "kernelspec": {
   "display_name": "mave-calibration-xCjwkSk6-py3.11",
   "language": "python",
   "name": "python3"
  },
  "language_info": {
   "codemirror_mode": {
    "name": "ipython",
    "version": 3
   },
   "file_extension": ".py",
   "mimetype": "text/x-python",
   "name": "python",
   "nbconvert_exporter": "python",
   "pygments_lexer": "ipython3",
   "version": "3.11.7"
  }
 },
 "nbformat": 4,
 "nbformat_minor": 2
}
