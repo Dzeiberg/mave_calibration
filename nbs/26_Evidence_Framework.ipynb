{
 "cells": [
  {
   "cell_type": "code",
   "execution_count": 1,
   "metadata": {},
   "outputs": [],
   "source": [
    "from tqdm import tqdm\n",
    "import numpy as np\n",
    "from mave_calibration.evidence_thresholds import get_tavtigian_constant, get_dual_constants\n",
    "import matplotlib.pyplot as plt\n",
    "import matplotlib.cm as cm\n",
    "import seaborn as sns\n",
    "import matplotlib.colors as mcolors\n",
    "import pandas as pd\n"
   ]
  },
  {
   "cell_type": "code",
   "execution_count": 35,
   "metadata": {},
   "outputs": [],
   "source": [
    "prior_rng = np.arange(.01,1,.025)"
   ]
  },
  {
   "cell_type": "code",
   "execution_count": 65,
   "metadata": {},
   "outputs": [],
   "source": [
    "CP,CB,successes = zip(*[get_dual_constants(p,return_success_count=True,C_max=100000) for p in tqdm(prior_rng)])\n",
    "CP = np.array(CP)\n",
    "CB = np.array(CB)\n",
    "successes = np.array(successes)"
   ]
  },
  {
   "cell_type": "code",
   "execution_count": 38,
   "metadata": {},
   "outputs": [],
   "source": [
    "df = pd.DataFrame({'prior':prior_rng,'CP':CP,'CB':CB,'successes':successes})"
   ]
  },
  {
   "cell_type": "code",
   "execution_count": 66,
   "metadata": {},
   "outputs": [
    {
     "data": {
      "image/png": "[encoded data removed]",
      "text/plain": [
       "<Figure size 640x480 with 2 Axes>"
      ]
     },
     "metadata": {},
     "output_type": "display_data"
    }
   ],
   "source": [
    "fig, ax = plt.subplots()\n",
    "\n",
    "vcenter = .5\n",
    "vmin, vmax = prior_rng.min(), prior_rng.max()\n",
    "normalize = mcolors.TwoSlopeNorm(vcenter=vcenter, vmin=vmin, vmax=vmax)\n",
    "colormap = cm.RdBu\n",
    "\n",
    "s=sns.scatterplot(\n",
    "    y=CB[prior_rng <= .5],\n",
    "    x=CP[prior_rng <= .5],\n",
    "    c=prior_rng[prior_rng <= .5],\n",
    "    norm=normalize,\n",
    "    cmap=colormap,\n",
    "    ax=ax,\n",
    ")\n",
    "# s=sns.scatterplot(y=CB,\n",
    "#     x=CP,\n",
    "#     style=successes,\n",
    "#     c=prior_rng,\n",
    "#     norm=normalize,\n",
    "#     cmap=colormap,\n",
    "#     ax=ax,\n",
    "# )\n",
    "\n",
    "scalarmappaple = cm.ScalarMappable(norm=normalize, cmap=colormap)\n",
    "scalarmappaple.set_array(prior_rng)\n",
    "fig.colorbar(scalarmappaple,ax=ax)\n",
    "plt.xlabel(r'$C_P$')\n",
    "plt.ylabel(r'$C_B$')\n",
    "plt.xscale('log')\n",
    "plt.yscale('log')"
   ]
  },
  {
   "cell_type": "code",
   "execution_count": 2,
   "metadata": {},
   "outputs": [],
   "source": [
    "def posterior(OP, prior):\n",
    "    return OP * prior / ((OP-1) * prior + 1)\n",
    "\n",
    "def OP(posterior, prior):\n",
    "    return posterior * (1-prior) / ((1-posterior) * prior)"
   ]
  },
  {
   "cell_type": "code",
   "execution_count": 7,
   "metadata": {},
   "outputs": [
    {
     "data": {
      "text/plain": [
       "np.float64(0.40936442013376084)"
      ]
     },
     "execution_count": 7,
     "metadata": {},
     "output_type": "execute_result"
    }
   ],
   "source": [
    "get_tavtigian_constant(.4) ** (-1/8)"
   ]
  },
  {
   "cell_type": "code",
   "execution_count": 3,
   "metadata": {},
   "outputs": [
    {
     "data": {
      "text/plain": [
       "np.float64(0.009118686344516055)"
      ]
     },
     "execution_count": 3,
     "metadata": {},
     "output_type": "execute_result"
    }
   ],
   "source": [
    "posterior(get_tavtigian_constant(.024) ** (-1/8), .024)"
   ]
  },
  {
   "cell_type": "code",
   "execution_count": 77,
   "metadata": {},
   "outputs": [
    {
     "data": {
      "text/plain": [
       "np.float64(1.0)"
      ]
     },
     "execution_count": 77,
     "metadata": {},
     "output_type": "execute_result"
    }
   ],
   "source": [
    "get_tavtigian_constant(1e-10,return_success_count=False) ** (-1/8)"
   ]
  },
  {
   "cell_type": "code",
   "execution_count": 4,
   "metadata": {},
   "outputs": [
    {
     "data": {
      "text/plain": [
       "0.009649568308786187"
      ]
     },
     "execution_count": 4,
     "metadata": {},
     "output_type": "execute_result"
    }
   ],
   "source": [
    "posterior(.38,.025)"
   ]
  },
  {
   "cell_type": "code",
   "execution_count": 64,
   "metadata": {},
   "outputs": [
    {
     "data": {
      "text/plain": [
       "array([1.18920712, 1.41421356, 2.        , 4.        ])"
      ]
     },
     "execution_count": 64,
     "metadata": {},
     "output_type": "execute_result"
    }
   ],
   "source": [
    "4 ** np.array([.125,.25,.5,1])"
   ]
  },
  {
   "cell_type": "code",
   "execution_count": null,
   "metadata": {},
   "outputs": [],
   "source": [
    "\n",
    "C,successes = zip(*[get_tavtigian_constant(p,return_success_count=True,C_max=100000) for p in tqdm(prior_rng)])"
   ]
  },
  {
   "cell_type": "code",
   "execution_count": null,
   "metadata": {},
   "outputs": [],
   "source": [
    "import matplotlib.pyplot as plt\n",
    "fig,[a,b] = plt.subplots(2,1,sharex=True)\n",
    "a.plot(prior_rng, C)\n",
    "a.set_xlabel('Prior')\n",
    "a.set_ylabel('Tavtigian Constant')\n",
    "a.set_yscale('log')\n",
    "a.scatter([.0441,.1],[1124,350],c='r',label='4.41% and 10%')\n",
    "a.legend()\n",
    "b.scatter(prior_rng, successes)\n",
    "b.set_xlabel('Prior')\n",
    "b.set_ylabel('Rules Satisfied')\n",
    "\n",
    "# plt.savefig('/data/dzeiberg/mave_calibration/tavtigian_constants.png')"
   ]
  },
  {
   "cell_type": "code",
   "execution_count": null,
   "metadata": {},
   "outputs": [],
   "source": []
  }
 ],
 "metadata": {
  "kernelspec": {
   "display_name": "mave-calibration-xCjwkSk6-py3.11",
   "language": "python",
   "name": "python3"
  },
  "language_info": {
   "codemirror_mode": {
    "name": "ipython",
    "version": 3
   },
   "file_extension": ".py",
   "mimetype": "text/x-python",
   "name": "python",
   "nbconvert_exporter": "python",
   "pygments_lexer": "ipython3",
   "version": "3.11.7"
  }
 },
 "nbformat": 4,
 "nbformat_minor": 2
}
