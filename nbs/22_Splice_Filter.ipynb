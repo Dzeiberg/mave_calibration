{
 "cells": [
  {
   "cell_type": "code",
   "execution_count": 1,
   "metadata": {},
   "outputs": [],
   "source": [
    "import pandas as pd\n",
    "pd.set_option('display.max_columns', 500)\n",
    "import json"
   ]
  },
  {
   "cell_type": "code",
   "execution_count": 2,
   "metadata": {},
   "outputs": [],
   "source": [
    "config = json.load(open('data_processing/config.json'))"
   ]
  },
  {
   "cell_type": "code",
   "execution_count": null,
   "metadata": {},
   "outputs": [],
   "source": [
    "dataset_id = \"Adamovich_BRCA1_Cisplatin\""
   ]
  },
  {
   "cell_type": "code",
   "execution_count": 3,
   "metadata": {},
   "outputs": [],
   "source": [
    "gnomad = pd.read_csv(\"/mnt/i/bio/mave_curation/Adamovich_BRCA1_Cisplatin/gnomad_matches_HGNC:1100_CHR17_43044295_43170245.tsv\", sep=\"\\t\")"
   ]
  },
  {
   "cell_type": "code",
   "execution_count": 4,
   "metadata": {},
   "outputs": [],
   "source": [
    "import sys\n",
    "sys.path.append(\"data_processing\")"
   ]
  },
  {
   "cell_type": "code",
   "execution_count": 5,
   "metadata": {},
   "outputs": [],
   "source": [
    "from data_processing.splice_ai import querySpliceAI\n",
    "from data_processing.main import filter_splice_variants"
   ]
  },
  {
   "cell_type": "code",
   "execution_count": 6,
   "metadata": {},
   "outputs": [
    {
     "name": "stderr",
     "output_type": "stream",
     "text": [
      "Using GATK jar /home/dz/utils/gatk-4.4.0.0/gatk-package-4.4.0.0-local.jar\n",
      "Running:\n",
      "    java -Dsamjdk.use_async_io_read_samtools=false -Dsamjdk.use_async_io_write_samtools=true -Dsamjdk.use_async_io_write_tribble=false -Dsamjdk.compression_level=2 -jar /home/dz/utils/gatk-4.4.0.0/gatk-package-4.4.0.0-local.jar SelectVariants -V /mnt/d/spliceAI/genome_scores_v1.3_ds.20a701bc58ab45b59de2576db79ac8d0/spliceai_scores.raw.snv.hg38.vcf.gz -L 17:43045682-43124093 --output /tmp/splice_ai_query_result.2024-08-26_12:46:39.462427.vcf\n",
      "12:46:41.899 INFO  NativeLibraryLoader - Loading libgkl_compression.so from jar:file:/home/dz/utils/gatk-4.4.0.0/gatk-package-4.4.0.0-local.jar!/com/intel/gkl/native/libgkl_compression.so\n",
      "12:46:41.942 INFO  SelectVariants - ------------------------------------------------------------\n",
      "12:46:41.945 INFO  SelectVariants - The Genome Analysis Toolkit (GATK) v4.4.0.0\n",
      "12:46:41.946 INFO  SelectVariants - For support and documentation go to https://software.broadinstitute.org/gatk/\n",
      "12:46:41.946 INFO  SelectVariants - Executing as dz@DZDesktop on Linux v5.15.153.1-microsoft-standard-WSL2 amd64\n",
      "12:46:41.946 INFO  SelectVariants - Java runtime: OpenJDK 64-Bit Server VM v17.0.12+7-Ubuntu-1ubuntu222.04\n",
      "12:46:41.946 INFO  SelectVariants - Start Date/Time: August 26, 2024 at 12:46:41 PM EDT\n",
      "12:46:41.946 INFO  SelectVariants - ------------------------------------------------------------\n",
      "12:46:41.947 INFO  SelectVariants - ------------------------------------------------------------\n",
      "12:46:41.948 INFO  SelectVariants - HTSJDK Version: 3.0.5\n",
      "12:46:41.948 INFO  SelectVariants - Picard Version: 3.0.0\n",
      "12:46:41.948 INFO  SelectVariants - Built for Spark Version: 3.3.1\n",
      "12:46:41.949 INFO  SelectVariants - HTSJDK Defaults.COMPRESSION_LEVEL : 2\n",
      "12:46:41.949 INFO  SelectVariants - HTSJDK Defaults.USE_ASYNC_IO_READ_FOR_SAMTOOLS : false\n",
      "12:46:41.950 INFO  SelectVariants - HTSJDK Defaults.USE_ASYNC_IO_WRITE_FOR_SAMTOOLS : true\n",
      "12:46:41.950 INFO  SelectVariants - HTSJDK Defaults.USE_ASYNC_IO_WRITE_FOR_TRIBBLE : false\n",
      "12:46:41.950 INFO  SelectVariants - Deflater: IntelDeflater\n",
      "12:46:41.951 INFO  SelectVariants - Inflater: IntelInflater\n",
      "12:46:41.951 INFO  SelectVariants - GCS max retries/reopens: 20\n",
      "12:46:41.951 INFO  SelectVariants - Requester pays: disabled\n",
      "12:46:41.952 INFO  SelectVariants - Initializing engine\n",
      "12:46:42.128 INFO  FeatureManager - Using codec VCFCodec to read file file:///mnt/d/spliceAI/genome_scores_v1.3_ds.20a701bc58ab45b59de2576db79ac8d0/spliceai_scores.raw.snv.hg38.vcf.gz\n",
      "12:46:42.296 INFO  IntervalArgumentCollection - Processing 78412 bp from intervals\n",
      "12:46:42.301 INFO  SelectVariants - Done initializing engine\n",
      "12:46:42.320 INFO  ProgressMeter - Starting traversal\n",
      "12:46:42.321 INFO  ProgressMeter -        Current Locus  Elapsed Minutes    Variants Processed  Variants/Minute\n",
      "12:46:43.558 INFO  ProgressMeter -          17:43124015              0.0                235236       11447007.3\n",
      "12:46:43.558 INFO  ProgressMeter - Traversal complete. Processed 235236 total variants in 0.0 minutes.\n",
      "12:46:43.593 INFO  SelectVariants - Shutting down engine\n",
      "[August 26, 2024 at 12:46:43 PM EDT] org.broadinstitute.hellbender.tools.walkers.variantutils.SelectVariants done. Elapsed time: 0.03 minutes.\n",
      "Runtime.totalMemory()=939524096\n"
     ]
    }
   ],
   "source": [
    "spliceAIResults = querySpliceAI(\"17\", gnomad.POS.min(), gnomad.POS.max(),**config['splice_ai'])"
   ]
  },
  {
   "cell_type": "code",
   "execution_count": 7,
   "metadata": {},
   "outputs": [],
   "source": [
    "nonsplice,splice = filter_splice_variants(gnomad, spliceAIResults)"
   ]
  },
  {
   "cell_type": "code",
   "execution_count": 11,
   "metadata": {},
   "outputs": [
    {
     "data": {
      "text/plain": [
       "(32038, 145, 32183)"
      ]
     },
     "execution_count": 11,
     "metadata": {},
     "output_type": "execute_result"
    }
   ],
   "source": [
    "nonsplice.shape[0], splice.shape[0], (nonsplice.shape[0] + splice.shape[0])"
   ]
  },
  {
   "cell_type": "code",
   "execution_count": 12,
   "metadata": {},
   "outputs": [
    {
     "data": {
      "text/plain": [
       "(32183, 58)"
      ]
     },
     "execution_count": 12,
     "metadata": {},
     "output_type": "execute_result"
    }
   ],
   "source": [
    "gnomad.shape"
   ]
  },
  {
   "cell_type": "code",
   "execution_count": null,
   "metadata": {},
   "outputs": [],
   "source": []
  }
 ],
 "metadata": {
  "kernelspec": {
   "display_name": "mave-calibration-EHbbm_E7-py3.10",
   "language": "python",
   "name": "python3"
  },
  "language_info": {
   "codemirror_mode": {
    "name": "ipython",
    "version": 3
   },
   "file_extension": ".py",
   "mimetype": "text/x-python",
   "name": "python",
   "nbconvert_exporter": "python",
   "pygments_lexer": "ipython3",
   "version": "3.10.12"
  }
 },
 "nbformat": 4,
 "nbformat_minor": 2
}
