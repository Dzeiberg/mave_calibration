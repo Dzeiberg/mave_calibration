{
 "cells": [
  {
   "cell_type": "code",
   "execution_count": null,
   "metadata": {},
   "outputs": [],
   "source": [
    "from pathlib import Path\n",
    "import pandas as pd\n",
    "pd.set_option('display.max_columns', None)\n",
    "from tqdm import tqdm_pandas,tqdm\n",
    "tqdm.pandas()\n",
    "from Bio.PDB.Polypeptide import protein_letters_3to1,protein_letters_3to1_extended\n",
    "import urllib.request\n",
    "import re\n",
    "import swifter\n",
    "from data_processing.clinvar import clinvar_pathogenicity_status, is_protein_variant,categorize_snv,parse_clinvar_name"
   ]
  },
  {
   "cell_type": "code",
   "execution_count": null,
   "metadata": {},
   "outputs": [],
   "source": [
    "clinvar_variant_summary = pd.read_pickle(\"/mnt/d/mave_calibration/cache/variant_summary_2024-08.pkl\")"
   ]
  },
  {
   "cell_type": "code",
   "execution_count": null,
   "metadata": {},
   "outputs": [],
   "source": [
    "clinvar_variant_summary.shape"
   ]
  },
  {
   "cell_type": "code",
   "execution_count": null,
   "metadata": {},
   "outputs": [],
   "source": [
    "snv = clinvar_variant_summary[clinvar_variant_summary[\"Type\"] == \"single nucleotide variant\"]"
   ]
  },
  {
   "cell_type": "code",
   "execution_count": null,
   "metadata": {},
   "outputs": [],
   "source": [
    "snv = snv.assign(snv_category = snv.Name.progress_apply(categorize_snv))"
   ]
  },
  {
   "cell_type": "code",
   "execution_count": null,
   "metadata": {},
   "outputs": [],
   "source": [
    "snv.snv_category.value_counts()"
   ]
  },
  {
   "cell_type": "code",
   "execution_count": null,
   "metadata": {},
   "outputs": [],
   "source": [
    "snv = snv.assign(\n",
    "    is_pathogenic = (snv.ClinicalSignificance.isin({\"Pathogenic\",\"Likely pathogenic\", \"Pathogenic/Likely pathogenic\"})) & \\\n",
    "        (~snv.ReviewStatus.isin({'no clasification provided', 'no assertion criteria provided','no classification for the single variant'})),\n",
    "    is_benign = (snv.ClinicalSignificance.isin({\"Benign\", \"Likely benign\", \"Benign/Likely benign\"})) & \\\n",
    "        (~snv.ReviewStatus.isin({'no clasification provided', 'no assertion criteria provided','no classification for the single variant'}))\n",
    ")"
   ]
  },
  {
   "cell_type": "code",
   "execution_count": null,
   "metadata": {},
   "outputs": [],
   "source": [
    "snv.GeneID = snv.GeneID.astype(str)"
   ]
  },
  {
   "cell_type": "code",
   "execution_count": null,
   "metadata": {},
   "outputs": [],
   "source": [
    "snv.shape"
   ]
  },
  {
   "cell_type": "code",
   "execution_count": null,
   "metadata": {},
   "outputs": [],
   "source": [
    "parsed_snv_names = snv.Name.progress_apply(parse_clinvar_name)"
   ]
  },
  {
   "cell_type": "code",
   "execution_count": null,
   "metadata": {},
   "outputs": [],
   "source": [
    "len(parsed_snv_names)"
   ]
  },
  {
   "cell_type": "code",
   "execution_count": null,
   "metadata": {},
   "outputs": [],
   "source": [
    "parsed_name_df = pd.DataFrame.from_records(parsed_snv_names.values,index=snv.index)"
   ]
  },
  {
   "cell_type": "code",
   "execution_count": null,
   "metadata": {},
   "outputs": [],
   "source": [
    "parsed_name_df.shape"
   ]
  },
  {
   "cell_type": "markdown",
   "metadata": {},
   "source": [
    "need to use the same index in concat!"
   ]
  },
  {
   "cell_type": "code",
   "execution_count": null,
   "metadata": {},
   "outputs": [],
   "source": [
    "snv_expanded = pd.concat((snv,parsed_name_df),axis=1)\n",
    "if (snv_expanded.Name != snv_expanded.name).any():\n",
    "    raise ValueError(\"Name and name do not match\")\n",
    "snv_expanded.drop(columns=[\"name\"],inplace=True)"
   ]
  },
  {
   "cell_type": "code",
   "execution_count": null,
   "metadata": {},
   "outputs": [],
   "source": [
    "snv_expanded.head()"
   ]
  },
  {
   "cell_type": "code",
   "execution_count": 2,
   "metadata": {},
   "outputs": [],
   "source": [
    "from data_processing.clinvar import getClinvar\n",
    "import pandas as pd\n",
    "pd.set_option('display.max_columns', None)"
   ]
  },
  {
   "cell_type": "code",
   "execution_count": 3,
   "metadata": {},
   "outputs": [],
   "source": [
    "clinvar = getClinvar(year=\"2024\",month=\"08\",\n",
    "                    use_cached_processed_file=True,\n",
    "                    cache_dir=\"/mnt/d/mave_calibration/cache\",)"
   ]
  },
  {
   "cell_type": "code",
   "execution_count": 5,
   "metadata": {},
   "outputs": [
    {
     "data": {
      "text/plain": [
       "snv_category\n",
       "missense                 2889704\n",
       "silent                   1213559\n",
       "non_protein_variant      1099086\n",
       "nonsense                  134097\n",
       "unknown                       18\n",
       "other_protein_variant          2\n",
       "Name: count, dtype: int64"
      ]
     },
     "execution_count": 5,
     "metadata": {},
     "output_type": "execute_result"
    }
   ],
   "source": [
    "clinvar.snv_category.value_counts()"
   ]
  },
  {
   "cell_type": "code",
   "execution_count": 10,
   "metadata": {},
   "outputs": [
    {
     "data": {
      "text/plain": [
       "snv_category\n",
       "nonsense               105266\n",
       "missense                94891\n",
       "non_protein_variant     66539\n",
       "silent                   1092\n",
       "unknown                    14\n",
       "Name: count, dtype: int64"
      ]
     },
     "execution_count": 10,
     "metadata": {},
     "output_type": "execute_result"
    }
   ],
   "source": [
    "clinvar.loc[(clinvar.is_pathogenic),'snv_category'].value_counts()"
   ]
  },
  {
   "cell_type": "code",
   "execution_count": 11,
   "metadata": {},
   "outputs": [
    {
     "data": {
      "text/plain": [
       "ClinicalSignificance\n",
       "Uncertain significance                          2630778\n",
       "Likely benign                                   1682950\n",
       "Benign                                           353039\n",
       "Conflicting classifications of pathogenicity     241561\n",
       "Pathogenic                                       151569\n",
       "                                                 ...   \n",
       "Likely pathogenic; Affects                            2\n",
       "Likely pathogenic; protective                         2\n",
       "Likely benign; association                            2\n",
       "Likely benign; risk factor                            2\n",
       "confers sensitivity; other                            2\n",
       "Name: count, Length: 86, dtype: int64"
      ]
     },
     "execution_count": 11,
     "metadata": {},
     "output_type": "execute_result"
    }
   ],
   "source": [
    "clinvar.ClinicalSignificance.value_counts()"
   ]
  },
  {
   "cell_type": "code",
   "execution_count": 1,
   "metadata": {},
   "outputs": [
    {
     "ename": "NameError",
     "evalue": "name 'clinvar' is not defined",
     "output_type": "error",
     "traceback": [
      "\u001b[0;31m---------------------------------------------------------------------------\u001b[0m",
      "\u001b[0;31mNameError\u001b[0m                                 Traceback (most recent call last)",
      "Cell \u001b[0;32mIn[1], line 1\u001b[0m\n\u001b[0;32m----> 1\u001b[0m \u001b[43mclinvar\u001b[49m[(clinvar\u001b[38;5;241m.\u001b[39mgeneSymbol \u001b[38;5;241m==\u001b[39m \u001b[38;5;124m\"\u001b[39m\u001b[38;5;124mBRCA2\u001b[39m\u001b[38;5;124m\"\u001b[39m) \u001b[38;5;241m&\u001b[39m \\\n\u001b[1;32m      2\u001b[0m         (clinvar\u001b[38;5;241m.\u001b[39msnv_category \u001b[38;5;241m==\u001b[39m \u001b[38;5;124m\"\u001b[39m\u001b[38;5;124mmissense\u001b[39m\u001b[38;5;124m\"\u001b[39m) \u001b[38;5;241m&\u001b[39m \\\n\u001b[1;32m      3\u001b[0m             (clinvar\u001b[38;5;241m.\u001b[39mis_pathogenic \u001b[38;5;241m==\u001b[39m \u001b[38;5;28;01mTrue\u001b[39;00m)]\n",
      "\u001b[0;31mNameError\u001b[0m: name 'clinvar' is not defined"
     ]
    }
   ],
   "source": [
    "clinvar[(clinvar.geneSymbol == \"BRCA2\") & \\\n",
    "        (clinvar.snv_category == \"missense\") & \\\n",
    "            (clinvar.is_pathogenic == True)]"
   ]
  },
  {
   "cell_type": "code",
   "execution_count": null,
   "metadata": {},
   "outputs": [],
   "source": []
  }
 ],
 "metadata": {
  "kernelspec": {
   "display_name": "mave-calibration-EHbbm_E7-py3.10",
   "language": "python",
   "name": "python3"
  },
  "language_info": {
   "codemirror_mode": {
    "name": "ipython",
    "version": 3
   },
   "file_extension": ".py",
   "mimetype": "text/x-python",
   "name": "python",
   "nbconvert_exporter": "python",
   "pygments_lexer": "ipython3",
   "version": "3.10.12"
  }
 },
 "nbformat": 4,
 "nbformat_minor": 2
}
