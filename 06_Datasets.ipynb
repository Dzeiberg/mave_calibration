{
 "cells": [
  {
   "cell_type": "code",
   "execution_count": 1,
   "metadata": {},
   "outputs": [
    {
     "name": "stderr",
     "output_type": "stream",
     "text": [
      "/home/dz/research/mave_calibration/main.py:11: TqdmExperimentalWarning: Using `tqdm.autonotebook.tqdm` in notebook mode. Use `tqdm.tqdm` instead to force console mode (e.g. in jupyter console)\n",
      "  from tqdm.autonotebook import tqdm\n"
     ]
    }
   ],
   "source": [
    "from main import load_data,prior_from_weights\n",
    "import os\n",
    "import json\n",
    "import numpy as np"
   ]
  },
  {
   "cell_type": "code",
   "execution_count": 2,
   "metadata": {},
   "outputs": [],
   "source": [
    "dataset_ids = \"IGVFFI5226LVQD IGVFFI5890AHYL urn_mavedb_00000013-a-1 urn_mavedb_00000054-a-1 urn_mavedb_00000068-b-1 urn_mavedb_00000097-0-1 urn_mavedb_00000108-a-2 urn_mavedb_00000001-c-1 urn_mavedb_00000050-a-1 urn_mavedb_00000068-a-1 urn_mavedb_00000068-c-1 urn_mavedb_00000108-a-1 Adomovich_BRCA1_CR Boettcher_TP53 Hu_BRCA2 Adomovich_BRCA1_HDR CHK2_MAVE Kozek_KCNH2 Adomovich_BRCA1_Low_Throughput\".split(\" \")"
   ]
  },
  {
   "cell_type": "code",
   "execution_count": 3,
   "metadata": {},
   "outputs": [
    {
     "data": {
      "text/plain": [
       "['IGVFFI5226LVQD',\n",
       " 'IGVFFI5890AHYL',\n",
       " 'urn_mavedb_00000013-a-1',\n",
       " 'urn_mavedb_00000054-a-1',\n",
       " 'urn_mavedb_00000068-b-1',\n",
       " 'urn_mavedb_00000097-0-1',\n",
       " 'urn_mavedb_00000108-a-2',\n",
       " 'urn_mavedb_00000001-c-1',\n",
       " 'urn_mavedb_00000050-a-1',\n",
       " 'urn_mavedb_00000068-a-1',\n",
       " 'urn_mavedb_00000068-c-1',\n",
       " 'urn_mavedb_00000108-a-1',\n",
       " 'Adomovich_BRCA1_CR',\n",
       " 'Boettcher_TP53',\n",
       " 'Hu_BRCA2',\n",
       " 'Adomovich_BRCA1_HDR',\n",
       " 'CHK2_MAVE',\n",
       " 'Kozek_KCNH2',\n",
       " 'Adomovich_BRCA1_Low_Throughput']"
      ]
     },
     "execution_count": 3,
     "metadata": {},
     "output_type": "execute_result"
    }
   ],
   "source": [
    "dataset_ids"
   ]
  },
  {
   "cell_type": "code",
   "execution_count": 4,
   "metadata": {},
   "outputs": [],
   "source": [
    "statistics = {}\n",
    "config_name = 'missense_config'\n",
    "for dataset_id in dataset_ids:\n",
    "    X,S,_ = load_data(dataset_id=dataset_id,config_name=config_name,data_directory='/mnt/d/mave_calibration/data/')\n",
    "    with open(os.path.join(\"/mnt/d/mave_calibration/data\", f\"{dataset_id}/{config_name}.json\")) as f:\n",
    "        config = json.load(f)\n",
    "    try:\n",
    "        with open(os.path.join(f\"/mnt/d/mave_calibration/results/{config_name}/{dataset_id}/result.json\")) as f:\n",
    "            result = json.load(f)\n",
    "        prior_estimate = prior_from_weights(np.array(result['weights'])).item()\n",
    "    except FileNotFoundError:\n",
    "        prior_estimate = np.nan\n",
    "    statistics[dataset_id] = {\n",
    "        'n_pathogenic' : S[:,0].sum(),\n",
    "        'n_control' : S[:,1].sum(),\n",
    "        f'n_{config_name.split(\"_\")[0]}' : S[:,2].sum(),\n",
    "        'total' : len(S),\n",
    "        'control_type' : list(config['sample_definitions'].keys())[1],\n",
    "        'prior_estimate' : prior_estimate,\n",
    "    }"
   ]
  },
  {
   "cell_type": "code",
   "execution_count": null,
   "metadata": {},
   "outputs": [],
   "source": [
    "import pandas as pd"
   ]
  },
  {
   "cell_type": "code",
   "execution_count": null,
   "metadata": {},
   "outputs": [],
   "source": [
    "publication_info = {\n",
    "    \"Kozek_KCNH2\" : dict(url=\"https://pubmed.ncbi.nlm.nih.gov/32522694/\",\n",
    "                         first_author=\"Kozek\",\n",
    "                         year='2020',\n",
    "                         gene_symbol='KCNH2'),\n",
    "    \"Boettcher_TP53\" : dict(url='https://pubmed.ncbi.nlm.nih.gov/31395785/',\n",
    "                            first_author='Boettcher',\n",
    "                            year='2019',\n",
    "                            gene_symbol='TP53'),\n",
    "    \"Hu_BRCA2\" : dict(url='https://pubmed.ncbi.nlm.nih.gov/38417439/',\n",
    "                      first_author='Hu',\n",
    "                      year='2024',\n",
    "                      gene_symbol='BRCA2'),\n",
    "    \"CHK2_MAVE\" : dict(url='https://www.biorxiv.org/content/10.1101/2024.02.13.579700v1',\n",
    "                        first_author='Gebbia',\n",
    "                       year='2024',\n",
    "                       gene_symbol='CHEK2'),\n",
    "    'Adomovich_BRCA1_CR' : dict(url='https://www.cell.com/ajhg/fulltext/S0002-9297(22)00050-7',\n",
    "                                first_author='Adomovich',\n",
    "                                year='2022',\n",
    "                                note='cisplatin resistance',\n",
    "                                gene_symbol='BRCA1'),\n",
    "    'Adomovich_BRCA1_HDR' : dict(url='https://www.cell.com/ajhg/fulltext/S0002-9297(22)00050-7',\n",
    "                                first_author='Adomovich',\n",
    "                                year='2022',\n",
    "                                note='homology-directed repair',\n",
    "                                gene_symbol='BRCA1'),\n",
    "    'urn_mavedb_00000013-a-1' : dict(url='https://pubmed.ncbi.nlm.nih.gov/29785012/',\n",
    "                                     first_author='Matreyek',\n",
    "                                     year='2018',\n",
    "                                     gene_symbol='PTEN'),\n",
    "\n",
    "    'urn_mavedb_00000001-c-1' : dict(url='https://pubmed.ncbi.nlm.nih.gov/29269382/',\n",
    "                                     first_author='Weile',\n",
    "                                     year='2017',\n",
    "                                     gene_symbol='CALM1'),\n",
    "    'urn_mavedb_00000050-a-1' : dict(url='https://pubmed.ncbi.nlm.nih.gov/33357406/',\n",
    "                                     first_author='Jia',\n",
    "                                     year='2021',\n",
    "                                     gene_symbol='MSH2'),\n",
    "    \n",
    "    'urn_mavedb_00000054-a-1' : dict(url='https://pubmed.ncbi.nlm.nih.gov/29706350/',\n",
    "                                     first_author='Mighell',\n",
    "                                     year='2018',\n",
    "                                     gene_symbol='PTEN'),\n",
    "    'urn_mavedb_00000068-a-1' : dict(url='https://pubmed.ncbi.nlm.nih.gov/30224644/',\n",
    "                                        first_author='Giacomelli',\n",
    "                                        year='2018',\n",
    "                                        gene_symbol='TP53',note='Mutated p53 paired with wildtype under nutlin-3'),\n",
    "    'urn_mavedb_00000068-b-1' : dict(url='https://pubmed.ncbi.nlm.nih.gov/30224644/',\n",
    "                                        first_author='Giacomelli',\n",
    "                                        year='2018',\n",
    "                                        gene_symbol='TP53',note='Mutated p53 with nutlin-3'),\n",
    "    'urn_mavedb_00000068-c-1' : dict(url='https://pubmed.ncbi.nlm.nih.gov/30224644/',\n",
    "                                        first_author='Giacomelli',\n",
    "                                        year='2018',\n",
    "                                        gene_symbol='TP53',note='Mutated p53 with etoposide'),\n",
    "    'urn_mavedb_00000097-0-1' : dict(url='https://pubmed.ncbi.nlm.nih.gov/30209399/',\n",
    "                                        first_author='Findlay',\n",
    "                                        year='2018',\n",
    "                                        gene_symbol='BRCA1'),\n",
    "    'urn_mavedb_00000108-a-1' : dict(url='https://www.cell.com/ajhg/fulltext/S0002-9297(23)00288-4',\n",
    "                                        first_author='van Loggerenberg',\n",
    "                                        year='2023',\n",
    "                                        gene_symbol='HMBS',\n",
    "                                        note='Missense variant effect map for the human ubiquitous HMBS isoform'),\n",
    "    'urn_mavedb_00000108-a-2' : dict(url='https://www.cell.com/ajhg/fulltext/S0002-9297(23)00288-4',\n",
    "                                        first_author='van Loggerenberg',\n",
    "                                        year='2023',\n",
    "                                        gene_symbol='HMBS',\n",
    "                                        note='Missense variant effect map for the human erythroid-specific HMBS isoform'),\n",
    "    'IGVFFI5226LVQD' : dict(first_author='IGVF',gene_symbol='F9',year='2024'),\n",
    "    'IGVFFI5890AHYL' : dict(first_author='IGVF',gene_symbol='CYP2C19',year='2024'),\n",
    "    'Adomovich_BRCA1_Low_Throughput' : dict(url='https://www.cell.com/ajhg/fulltext/S0002-9297(22)00050-7',\n",
    "                                first_author='Adomovich',\n",
    "                                year='2022',\n",
    "                                note='Supp. Table S7',\n",
    "                                gene_symbol='BRCA1'),\n",
    "}"
   ]
  },
  {
   "cell_type": "code",
   "execution_count": null,
   "metadata": {},
   "outputs": [],
   "source": [
    "for dataset_id, dataset_info in publication_info.items():\n",
    "    with open(f\"/mnt/d/mave_calibration/data/{dataset_id}/info_{config_name}.json\",'w') as f:\n",
    "        json.dump(dataset_info, f)"
   ]
  },
  {
   "cell_type": "code",
   "execution_count": null,
   "metadata": {},
   "outputs": [],
   "source": [
    "stat_table = pd.DataFrame.from_records(statistics).T\n",
    "stat_table = pd.concat([stat_table,pd.DataFrame.from_dict(publication_info,orient='index')],axis=1)"
   ]
  },
  {
   "cell_type": "code",
   "execution_count": null,
   "metadata": {},
   "outputs": [],
   "source": [
    "stat_table.sort_values(by='total').to_json(f\"/mnt/d/mave_calibration/dataset_summaries_{config_name}.json\",orient='records',)\n",
    "stat_table.sort_values(by='total').to_csv(f\"/mnt/d/mave_calibration/dataset_summaries_{config_name}.csv\")"
   ]
  },
  {
   "cell_type": "code",
   "execution_count": null,
   "metadata": {},
   "outputs": [],
   "source": [
    "stat_table.sort_values(by='total')"
   ]
  },
  {
   "cell_type": "code",
   "execution_count": null,
   "metadata": {},
   "outputs": [],
   "source": []
  },
  {
   "cell_type": "code",
   "execution_count": null,
   "metadata": {},
   "outputs": [],
   "source": []
  }
 ],
 "metadata": {
  "kernelspec": {
   "display_name": "mave-calibration-EHbbm_E7-py3.10",
   "language": "python",
   "name": "python3"
  },
  "language_info": {
   "codemirror_mode": {
    "name": "ipython",
    "version": 3
   },
   "file_extension": ".py",
   "mimetype": "text/x-python",
   "name": "python",
   "nbconvert_exporter": "python",
   "pygments_lexer": "ipython3",
   "version": "3.10.12"
  }
 },
 "nbformat": 4,
 "nbformat_minor": 2
}
